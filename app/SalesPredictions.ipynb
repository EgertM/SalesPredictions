{
  "nbformat": 4,
  "nbformat_minor": 0,
  "metadata": {
    "kernelspec": {
      "display_name": "Python 3",
      "language": "python",
      "name": "python3"
    },
    "language_info": {
      "codemirror_mode": {
        "name": "ipython",
        "version": 3
      },
      "file_extension": ".py",
      "mimetype": "text/x-python",
      "name": "python",
      "nbconvert_exporter": "python",
      "pygments_lexer": "ipython3",
      "version": "3.7.1"
    },
    "colab": {
      "name": "SalesPredictions.ipynb",
      "provenance": [],
      "collapsed_sections": [],
      "machine_shape": "hm"
    }
  },
  "cells": [
    {
      "cell_type": "code",
      "metadata": {
        "id": "Tl3-fulRSFdJ",
        "colab_type": "code",
        "colab": {}
      },
      "source": [
        ""
      ],
      "execution_count": 0,
      "outputs": []
    },
    {
      "cell_type": "code",
      "metadata": {
        "id": "m6QRZRZESFde",
        "colab_type": "code",
        "colab": {}
      },
      "source": [
        "import numpy as np # linear algebra\n",
        "import pandas as pd # data processing, CSV file I/O (e.g. pd.read_csv)\n",
        "\n",
        "import os\n",
        "for dirname, _, filenames in os.walk('..\\input'):\n",
        "    for filename in filenames:\n",
        "        print(os.path.join(dirname, filename))"
      ],
      "execution_count": 0,
      "outputs": []
    },
    {
      "cell_type": "code",
      "metadata": {
        "id": "lguEE3bnTNQ0",
        "colab_type": "code",
        "outputId": "e40a5efa-c4cd-4aee-e1e0-60c10550e5aa",
        "colab": {
          "base_uri": "https://localhost:8080/",
          "height": 35
        }
      },
      "source": [
        "from google.colab import drive\n",
        "drive.mount('/content/drive')\n",
        "path = 'drive/My Drive/Colab Notebooks'"
      ],
      "execution_count": 308,
      "outputs": [
        {
          "output_type": "stream",
          "text": [
            "Drive already mounted at /content/drive; to attempt to forcibly remount, call drive.mount(\"/content/drive\", force_remount=True).\n"
          ],
          "name": "stdout"
        }
      ]
    },
    {
      "cell_type": "code",
      "metadata": {
        "id": "ykRlwJ1ASFd4",
        "colab_type": "code",
        "colab": {}
      },
      "source": [
        "item_categories = pd.read_csv(path+\"/input/item_categories.csv\")\n",
        "items = pd.read_csv(path+\"/input/items.csv\")\n",
        "shops = pd.read_csv(path+\"/input/shops.csv\")\n",
        "train_original = pd.read_csv(path+\"/input/sales_train.csv.gz\")\n",
        "test = pd.read_csv(path+\"/input/test.csv.gz\")\n",
        "train = train_original.copy()"
      ],
      "execution_count": 0,
      "outputs": []
    },
    {
      "cell_type": "code",
      "metadata": {
        "id": "YB8CGBesSFeO",
        "colab_type": "code",
        "outputId": "8e7396af-91ac-4943-8388-5719f74bcbc2",
        "colab": {
          "base_uri": "https://localhost:8080/",
          "height": 1000
        }
      },
      "source": [
        "print(\"Item categories\")\n",
        "print(item_categories.head(10))\n",
        "print(\"\\nItems\")\n",
        "print(items.head(10))\n",
        "print(\"\\nShops\")\n",
        "print(shops.head(10))\n",
        "print(\"\\nTrain set\")\n",
        "print(train.head(10))\n",
        "print(\"\\nTest set\")\n",
        "print(test.head(10))"
      ],
      "execution_count": 375,
      "outputs": [
        {
          "output_type": "stream",
          "text": [
            "Item categories\n",
            "        item_category_name  item_category_id\n",
            "0  PC - Гарнитуры/Наушники                 0\n",
            "1         Аксессуары - PS2                 1\n",
            "2         Аксессуары - PS3                 2\n",
            "3         Аксессуары - PS4                 3\n",
            "4         Аксессуары - PSP                 4\n",
            "5      Аксессуары - PSVita                 5\n",
            "6    Аксессуары - XBOX 360                 6\n",
            "7    Аксессуары - XBOX ONE                 7\n",
            "8           Билеты (Цифра)                 8\n",
            "9          Доставка товара                 9\n",
            "\n",
            "Items\n",
            "                                           item_name  item_id  item_category_id\n",
            "0          ! ВО ВЛАСТИ НАВАЖДЕНИЯ (ПЛАСТ.)         D        0                40\n",
            "1  !ABBYY FineReader 12 Professional Edition Full...        1                76\n",
            "2      ***В ЛУЧАХ СЛАВЫ   (UNV)                    D        2                40\n",
            "3    ***ГОЛУБАЯ ВОЛНА  (Univ)                      D        3                40\n",
            "4        ***КОРОБКА (СТЕКЛО)                       D        4                40\n",
            "5  ***НОВЫЕ АМЕРИКАНСКИЕ ГРАФФИТИ  (UNI)         ...        5                40\n",
            "6           ***УДАР ПО ВОРОТАМ (UNI)               D        6                40\n",
            "7         ***УДАР ПО ВОРОТАМ-2 (UNI)               D        7                40\n",
            "8           ***ЧАЙ С МУССОЛИНИ                     D        8                40\n",
            "9      ***ШУГАРЛЭНДСКИЙ ЭКСПРЕСС (UNI)             D        9                40\n",
            "\n",
            "Shops\n",
            "                        shop_name  shop_id\n",
            "0   !Якутск Орджоникидзе, 56 фран        0\n",
            "1   !Якутск ТЦ \"Центральный\" фран        1\n",
            "2                Адыгея ТЦ \"Мега\"        2\n",
            "3  Балашиха ТРК \"Октябрь-Киномир\"        3\n",
            "4        Волжский ТЦ \"Волга Молл\"        4\n",
            "5          Вологда ТРЦ \"Мармелад\"        5\n",
            "6      Воронеж (Плехановская, 13)        6\n",
            "7          Воронеж ТРЦ \"Максимир\"        7\n",
            "8    Воронеж ТРЦ Сити-Парк \"Град\"        8\n",
            "9               Выездная Торговля        9\n",
            "\n",
            "Train set\n",
            "         date  date_block_num  shop_id  item_id  item_price  item_cnt_day\n",
            "0  02.01.2013               0       59    22154      999.00           1.0\n",
            "1  03.01.2013               0       25     2552      899.00           1.0\n",
            "2  05.01.2013               0       25     2552      899.00          -1.0\n",
            "3  06.01.2013               0       25     2554     1709.05           1.0\n",
            "4  15.01.2013               0       25     2555     1099.00           1.0\n",
            "5  10.01.2013               0       25     2564      349.00           1.0\n",
            "6  02.01.2013               0       25     2565      549.00           1.0\n",
            "7  04.01.2013               0       25     2572      239.00           1.0\n",
            "8  11.01.2013               0       25     2572      299.00           1.0\n",
            "9  03.01.2013               0       25     2573      299.00           3.0\n",
            "\n",
            "Test set\n",
            "   ID  shop_id  item_id\n",
            "0   0        5     5037\n",
            "1   1        5     5320\n",
            "2   2        5     5233\n",
            "3   3        5     5232\n",
            "4   4        5     5268\n",
            "5   5        5     5039\n",
            "6   6        5     5041\n",
            "7   7        5     5046\n",
            "8   8        5     5319\n",
            "9   9        5     5003\n"
          ],
          "name": "stdout"
        }
      ]
    },
    {
      "cell_type": "code",
      "metadata": {
        "id": "GKjNz5EySFeZ",
        "colab_type": "code",
        "outputId": "3a753aab-e8a6-4b5f-834b-b06c43024ffb",
        "colab": {
          "base_uri": "https://localhost:8080/",
          "height": 623
        }
      },
      "source": [
        "print(train.info())\n",
        "print(train.describe())\n",
        "print(train.item_cnt_day.value_counts())"
      ],
      "execution_count": 376,
      "outputs": [
        {
          "output_type": "stream",
          "text": [
            "<class 'pandas.core.frame.DataFrame'>\n",
            "RangeIndex: 2935849 entries, 0 to 2935848\n",
            "Data columns (total 6 columns):\n",
            "date              object\n",
            "date_block_num    int64\n",
            "shop_id           int64\n",
            "item_id           int64\n",
            "item_price        float64\n",
            "item_cnt_day      float64\n",
            "dtypes: float64(2), int64(3), object(1)\n",
            "memory usage: 134.4+ MB\n",
            "None\n",
            "       date_block_num       shop_id       item_id    item_price  item_cnt_day\n",
            "count    2.935849e+06  2.935849e+06  2.935849e+06  2.935849e+06  2.935849e+06\n",
            "mean     1.456991e+01  3.300173e+01  1.019723e+04  8.908532e+02  1.242641e+00\n",
            "std      9.422988e+00  1.622697e+01  6.324297e+03  1.729800e+03  2.618834e+00\n",
            "min      0.000000e+00  0.000000e+00  0.000000e+00 -1.000000e+00 -2.200000e+01\n",
            "25%      7.000000e+00  2.200000e+01  4.476000e+03  2.490000e+02  1.000000e+00\n",
            "50%      1.400000e+01  3.100000e+01  9.343000e+03  3.990000e+02  1.000000e+00\n",
            "75%      2.300000e+01  4.700000e+01  1.568400e+04  9.990000e+02  1.000000e+00\n",
            "max      3.300000e+01  5.900000e+01  2.216900e+04  3.079800e+05  2.169000e+03\n",
            "1.0      2629372\n",
            "2.0       194201\n",
            "3.0        47350\n",
            "4.0        19685\n",
            "5.0        10474\n",
            "          ...   \n",
            "179.0          1\n",
            "187.0          1\n",
            "194.0          1\n",
            "195.0          1\n",
            "508.0          1\n",
            "Name: item_cnt_day, Length: 198, dtype: int64\n"
          ],
          "name": "stdout"
        }
      ]
    },
    {
      "cell_type": "code",
      "metadata": {
        "id": "n62TeedoITSl",
        "colab_type": "code",
        "colab": {}
      },
      "source": [
        "#print(item_categories.head(70))\n",
        "#category_tags = ['Аксессуары','Игры PC','Карты оплаты','Кино ','Книги','Музыка','Подарки','Программы','Служебные','Чистые носители']\n",
        "#all_categories = []\n",
        "#for tag in category_tags:\n",
        "#  all_categories.append(list(item_categories[item_categories['item_category_name'].str.contains(tag)]['item_category_id']))\n",
        "#item_categories_simplify_dict = {i:i for i in range(84)}\n",
        "#for category in all_categories:\n",
        "#  for i in category:\n",
        "#    item_categories_simplify_dict[i] = category[0]\n",
        "#print(item_categories_simplify_dict)\n",
        "#print(set(item_categories_simplify_dict.values()))"
      ],
      "execution_count": 0,
      "outputs": []
    },
    {
      "cell_type": "code",
      "metadata": {
        "id": "2u299iU6V7lU",
        "colab_type": "code",
        "colab": {}
      },
      "source": [
        "shops.shop_name = shops.shop_name.str.strip('!\"')\n",
        "name_tags = [set(a[0] for a in shops.shop_name.str.split())][0]\n",
        "all_categories = []\n",
        "for tag in name_tags:\n",
        "  all_categories.append(list(shops[shops['shop_name'].str.contains(tag)]['shop_id']))\n",
        "shop_names_simplify_dict = {i:i for i in range(84)}\n",
        "for category in all_categories:\n",
        "  for i in category:\n",
        "    shop_names_simplify_dict[i] = category[0]#shops.head(90)"
      ],
      "execution_count": 0,
      "outputs": []
    },
    {
      "cell_type": "code",
      "metadata": {
        "id": "_5CM4-AaSFeq",
        "colab_type": "code",
        "outputId": "d4dfdbc3-cb19-4b3a-ce47-222bba8c3e17",
        "colab": {
          "base_uri": "https://localhost:8080/",
          "height": 206
        }
      },
      "source": [
        "train.sort_values(by=['date']).head()"
      ],
      "execution_count": 379,
      "outputs": [
        {
          "output_type": "execute_result",
          "data": {
            "text/html": [
              "<div>\n",
              "<style scoped>\n",
              "    .dataframe tbody tr th:only-of-type {\n",
              "        vertical-align: middle;\n",
              "    }\n",
              "\n",
              "    .dataframe tbody tr th {\n",
              "        vertical-align: top;\n",
              "    }\n",
              "\n",
              "    .dataframe thead th {\n",
              "        text-align: right;\n",
              "    }\n",
              "</style>\n",
              "<table border=\"1\" class=\"dataframe\">\n",
              "  <thead>\n",
              "    <tr style=\"text-align: right;\">\n",
              "      <th></th>\n",
              "      <th>date</th>\n",
              "      <th>date_block_num</th>\n",
              "      <th>shop_id</th>\n",
              "      <th>item_id</th>\n",
              "      <th>item_price</th>\n",
              "      <th>item_cnt_day</th>\n",
              "    </tr>\n",
              "  </thead>\n",
              "  <tbody>\n",
              "    <tr>\n",
              "      <th>16164</th>\n",
              "      <td>01.01.2013</td>\n",
              "      <td>0</td>\n",
              "      <td>28</td>\n",
              "      <td>11613</td>\n",
              "      <td>1499.0</td>\n",
              "      <td>1.0</td>\n",
              "    </tr>\n",
              "    <tr>\n",
              "      <th>101474</th>\n",
              "      <td>01.01.2013</td>\n",
              "      <td>0</td>\n",
              "      <td>51</td>\n",
              "      <td>10283</td>\n",
              "      <td>667.0</td>\n",
              "      <td>1.0</td>\n",
              "    </tr>\n",
              "    <tr>\n",
              "      <th>10197</th>\n",
              "      <td>01.01.2013</td>\n",
              "      <td>0</td>\n",
              "      <td>19</td>\n",
              "      <td>2828</td>\n",
              "      <td>499.0</td>\n",
              "      <td>1.0</td>\n",
              "    </tr>\n",
              "    <tr>\n",
              "      <th>101457</th>\n",
              "      <td>01.01.2013</td>\n",
              "      <td>0</td>\n",
              "      <td>51</td>\n",
              "      <td>10390</td>\n",
              "      <td>150.0</td>\n",
              "      <td>1.0</td>\n",
              "    </tr>\n",
              "    <tr>\n",
              "      <th>101455</th>\n",
              "      <td>01.01.2013</td>\n",
              "      <td>0</td>\n",
              "      <td>51</td>\n",
              "      <td>10591</td>\n",
              "      <td>110.0</td>\n",
              "      <td>1.0</td>\n",
              "    </tr>\n",
              "  </tbody>\n",
              "</table>\n",
              "</div>"
            ],
            "text/plain": [
              "              date  date_block_num  shop_id  item_id  item_price  item_cnt_day\n",
              "16164   01.01.2013               0       28    11613      1499.0           1.0\n",
              "101474  01.01.2013               0       51    10283       667.0           1.0\n",
              "10197   01.01.2013               0       19     2828       499.0           1.0\n",
              "101457  01.01.2013               0       51    10390       150.0           1.0\n",
              "101455  01.01.2013               0       51    10591       110.0           1.0"
            ]
          },
          "metadata": {
            "tags": []
          },
          "execution_count": 379
        }
      ]
    },
    {
      "cell_type": "code",
      "metadata": {
        "id": "m1KWYqWlSFe4",
        "colab_type": "code",
        "colab": {}
      },
      "source": [
        "item_to_cat = {}\n",
        "for idx, row in items.iterrows():\n",
        "    #print(row)\n",
        "    item_to_cat[row.item_id] = row.item_category_id\n",
        "cat_id_to_name = {}\n",
        "for idx, row in item_categories.iterrows():\n",
        "    cat_id_to_name[row.item_category_id] = row.item_category_name"
      ],
      "execution_count": 0,
      "outputs": []
    },
    {
      "cell_type": "code",
      "metadata": {
        "id": "1-mVxIQ_SFfC",
        "colab_type": "code",
        "colab": {}
      },
      "source": [
        "default_category_idx = len(item_categories)"
      ],
      "execution_count": 0,
      "outputs": []
    },
    {
      "cell_type": "code",
      "metadata": {
        "id": "o1R0WVfbSFfR",
        "colab_type": "code",
        "colab": {}
      },
      "source": [
        "train['item_category_id_'] = train['item_id'].map(item_to_cat)\n",
        "train['item_category_id'] = train['item_category_id_']#.map(item_categories_simplify_dict)\n",
        "#train['shop_id'] = train['shop_id'].map(shop_names_simplify_dict)"
      ],
      "execution_count": 0,
      "outputs": []
    },
    {
      "cell_type": "code",
      "metadata": {
        "id": "ppzRQ3G9SFfa",
        "colab_type": "code",
        "colab": {}
      },
      "source": [
        "new_train = train[['date_block_num','shop_id','item_id','item_category_id','item_cnt_day','item_price']]"
      ],
      "execution_count": 0,
      "outputs": []
    },
    {
      "cell_type": "code",
      "metadata": {
        "id": "-zbimxTESFfo",
        "colab_type": "code",
        "outputId": "64b659af-477c-4f30-d410-ab27bb15e616",
        "colab": {
          "base_uri": "https://localhost:8080/",
          "height": 219
        }
      },
      "source": [
        "print(new_train.head(10))"
      ],
      "execution_count": 384,
      "outputs": [
        {
          "output_type": "stream",
          "text": [
            "   date_block_num  shop_id  item_id  item_category_id  item_cnt_day  item_price\n",
            "0               0       59    22154                37           1.0      999.00\n",
            "1               0       25     2552                58           1.0      899.00\n",
            "2               0       25     2552                58          -1.0      899.00\n",
            "3               0       25     2554                58           1.0     1709.05\n",
            "4               0       25     2555                56           1.0     1099.00\n",
            "5               0       25     2564                59           1.0      349.00\n",
            "6               0       25     2565                56           1.0      549.00\n",
            "7               0       25     2572                55           1.0      239.00\n",
            "8               0       25     2572                55           1.0      299.00\n",
            "9               0       25     2573                55           3.0      299.00\n"
          ],
          "name": "stdout"
        }
      ]
    },
    {
      "cell_type": "code",
      "metadata": {
        "id": "xY1wt8_FSFf7",
        "colab_type": "code",
        "colab": {}
      },
      "source": [
        "processing_train = pd.DataFrame(new_train.groupby(['date_block_num','item_category_id'])['item_cnt_day'].sum().reset_index())"
      ],
      "execution_count": 0,
      "outputs": []
    },
    {
      "cell_type": "code",
      "metadata": {
        "id": "otWwNFyTSFgH",
        "colab_type": "code",
        "outputId": "0232043e-18d9-4657-d0b3-829109e47c41",
        "colab": {
          "base_uri": "https://localhost:8080/",
          "height": 274
        }
      },
      "source": [
        "print(processing_train)"
      ],
      "execution_count": 386,
      "outputs": [
        {
          "output_type": "stream",
          "text": [
            "      date_block_num  item_category_id  item_cnt_day\n",
            "0                  0                 0           1.0\n",
            "1                  0                 1           1.0\n",
            "2                  0                 2        1390.0\n",
            "3                  0                 3         440.0\n",
            "4                  0                 4         251.0\n",
            "...              ...               ...           ...\n",
            "2072              33                76         184.0\n",
            "2073              33                77          64.0\n",
            "2074              33                78          64.0\n",
            "2075              33                79         521.0\n",
            "2076              33                83         348.0\n",
            "\n",
            "[2077 rows x 3 columns]\n"
          ],
          "name": "stdout"
        }
      ]
    },
    {
      "cell_type": "code",
      "metadata": {
        "id": "g6xCPPYESFgP",
        "colab_type": "code",
        "colab": {}
      },
      "source": [
        "import seaborn as sns\n",
        "import matplotlib.pyplot as plt\n",
        "from sklearn.preprocessing import OneHotEncoder, StandardScaler\n",
        "from sklearn.model_selection import train_test_split"
      ],
      "execution_count": 0,
      "outputs": []
    },
    {
      "cell_type": "code",
      "metadata": {
        "id": "lMOFO7IfSFgY",
        "colab_type": "code",
        "colab": {}
      },
      "source": [
        ""
      ],
      "execution_count": 0,
      "outputs": []
    },
    {
      "cell_type": "code",
      "metadata": {
        "id": "3Z_jFLVnSFgf",
        "colab_type": "code",
        "colab": {}
      },
      "source": [
        "processing_train['category'] = processing_train['item_category_id'].map(cat_id_to_name)\n",
        "for i in range(0,84,8):\n",
        "    pass\n",
        "    #processed = processing_train[(processing_train.item_category_id >= i ) & (processing_train.item_category_id < i+8)]\n",
        "    #g = sns.FacetGrid(processed, col=\"category\", col_wrap=4, height=3)\n",
        "    #g.map(sns.lineplot, \"date_block_num\", \"item_cnt_day\", color=\".3\", ci=None);\n"
      ],
      "execution_count": 0,
      "outputs": []
    },
    {
      "cell_type": "code",
      "metadata": {
        "id": "kTodf63uSFgq",
        "colab_type": "code",
        "colab": {}
      },
      "source": [
        "processing_train_2 = pd.DataFrame(new_train.groupby(['date_block_num','shop_id'])['item_cnt_day'].sum().reset_index())"
      ],
      "execution_count": 0,
      "outputs": []
    },
    {
      "cell_type": "code",
      "metadata": {
        "id": "KwVmYARiSFgy",
        "colab_type": "code",
        "colab": {}
      },
      "source": [
        "for i in range(0,61,8):\n",
        "    pass\n",
        "    #processed = processing_train_2[(processing_train_2.shop_id >= i) & (processing_train_2.shop_id < i+8)]\n",
        "    #g = sns.FacetGrid(processed, col=\"shop_id\", col_wrap=4, height=3)\n",
        "    #g.map(sns.lineplot, \"date_block_num\", \"item_cnt_day\", color=\".3\", ci=None);\n"
      ],
      "execution_count": 0,
      "outputs": []
    },
    {
      "cell_type": "code",
      "metadata": {
        "id": "3FO4imTjSFg9",
        "colab_type": "code",
        "outputId": "c11e61eb-6594-4d16-dc4d-9d9b50ac5a65",
        "colab": {
          "base_uri": "https://localhost:8080/",
          "height": 298
        }
      },
      "source": [
        "processing_train_3 = pd.DataFrame(new_train.groupby(['date_block_num'])['item_cnt_day'].sum().reset_index())\n",
        "sns.lineplot(x='date_block_num',y='item_cnt_day',data=processing_train_3)"
      ],
      "execution_count": 391,
      "outputs": [
        {
          "output_type": "execute_result",
          "data": {
            "text/plain": [
              "<matplotlib.axes._subplots.AxesSubplot at 0x7f2ac7971b70>"
            ]
          },
          "metadata": {
            "tags": []
          },
          "execution_count": 391
        },
        {
          "output_type": "display_data",
          "data": {
            "image/png": "[encoded data removed]",
            "text/plain": [
              "<Figure size 432x288 with 1 Axes>"
            ]
          },
          "metadata": {
            "tags": []
          }
        }
      ]
    },
    {
      "cell_type": "code",
      "metadata": {
        "id": "ZXGBgZu4SFhO",
        "colab_type": "code",
        "outputId": "a2fbb463-ae11-4989-93a4-45e9c2015945",
        "colab": {
          "base_uri": "https://localhost:8080/",
          "height": 127
        }
      },
      "source": [
        "for c in new_train:\n",
        "    print(f\"NANs in {c}:{new_train[c].isnull().sum()}\")"
      ],
      "execution_count": 392,
      "outputs": [
        {
          "output_type": "stream",
          "text": [
            "NANs in date_block_num:0\n",
            "NANs in shop_id:0\n",
            "NANs in item_id:0\n",
            "NANs in item_category_id:0\n",
            "NANs in item_cnt_day:0\n",
            "NANs in item_price:0\n"
          ],
          "name": "stdout"
        }
      ]
    },
    {
      "cell_type": "code",
      "metadata": {
        "id": "myRs_XyBSFha",
        "colab_type": "code",
        "outputId": "134e308c-476f-4c3c-cddb-82cd4cba9b5b",
        "colab": {
          "base_uri": "https://localhost:8080/",
          "height": 206
        }
      },
      "source": [
        "new_train.head()"
      ],
      "execution_count": 393,
      "outputs": [
        {
          "output_type": "execute_result",
          "data": {
            "text/html": [
              "<div>\n",
              "<style scoped>\n",
              "    .dataframe tbody tr th:only-of-type {\n",
              "        vertical-align: middle;\n",
              "    }\n",
              "\n",
              "    .dataframe tbody tr th {\n",
              "        vertical-align: top;\n",
              "    }\n",
              "\n",
              "    .dataframe thead th {\n",
              "        text-align: right;\n",
              "    }\n",
              "</style>\n",
              "<table border=\"1\" class=\"dataframe\">\n",
              "  <thead>\n",
              "    <tr style=\"text-align: right;\">\n",
              "      <th></th>\n",
              "      <th>date_block_num</th>\n",
              "      <th>shop_id</th>\n",
              "      <th>item_id</th>\n",
              "      <th>item_category_id</th>\n",
              "      <th>item_cnt_day</th>\n",
              "      <th>item_price</th>\n",
              "    </tr>\n",
              "  </thead>\n",
              "  <tbody>\n",
              "    <tr>\n",
              "      <th>0</th>\n",
              "      <td>0</td>\n",
              "      <td>59</td>\n",
              "      <td>22154</td>\n",
              "      <td>37</td>\n",
              "      <td>1.0</td>\n",
              "      <td>999.00</td>\n",
              "    </tr>\n",
              "    <tr>\n",
              "      <th>1</th>\n",
              "      <td>0</td>\n",
              "      <td>25</td>\n",
              "      <td>2552</td>\n",
              "      <td>58</td>\n",
              "      <td>1.0</td>\n",
              "      <td>899.00</td>\n",
              "    </tr>\n",
              "    <tr>\n",
              "      <th>2</th>\n",
              "      <td>0</td>\n",
              "      <td>25</td>\n",
              "      <td>2552</td>\n",
              "      <td>58</td>\n",
              "      <td>-1.0</td>\n",
              "      <td>899.00</td>\n",
              "    </tr>\n",
              "    <tr>\n",
              "      <th>3</th>\n",
              "      <td>0</td>\n",
              "      <td>25</td>\n",
              "      <td>2554</td>\n",
              "      <td>58</td>\n",
              "      <td>1.0</td>\n",
              "      <td>1709.05</td>\n",
              "    </tr>\n",
              "    <tr>\n",
              "      <th>4</th>\n",
              "      <td>0</td>\n",
              "      <td>25</td>\n",
              "      <td>2555</td>\n",
              "      <td>56</td>\n",
              "      <td>1.0</td>\n",
              "      <td>1099.00</td>\n",
              "    </tr>\n",
              "  </tbody>\n",
              "</table>\n",
              "</div>"
            ],
            "text/plain": [
              "   date_block_num  shop_id  item_id  item_category_id  item_cnt_day  item_price\n",
              "0               0       59    22154                37           1.0      999.00\n",
              "1               0       25     2552                58           1.0      899.00\n",
              "2               0       25     2552                58          -1.0      899.00\n",
              "3               0       25     2554                58           1.0     1709.05\n",
              "4               0       25     2555                56           1.0     1099.00"
            ]
          },
          "metadata": {
            "tags": []
          },
          "execution_count": 393
        }
      ]
    },
    {
      "cell_type": "code",
      "metadata": {
        "id": "hBi5kghbSFhj",
        "colab_type": "code",
        "outputId": "de7de9fe-5595-46e2-ccfc-a8da2b4e9db2",
        "colab": {
          "base_uri": "https://localhost:8080/",
          "height": 316
        }
      },
      "source": [
        "new_train['month_value'] = (new_train['date_block_num'] % 12)/11\n",
        "\n",
        "\"\"\"\n",
        "month_value_name_map = {\n",
        "    0:'January',\n",
        "    1:'February',\n",
        "    2:'March',\n",
        "    3:'April',\n",
        "    4:'May',\n",
        "    5:'June',\n",
        "    6:'July',\n",
        "    7:'August',\n",
        "    8:'September',\n",
        "    9:'October',\n",
        "    10:'November',\n",
        "    11:'December'\n",
        "}\n",
        "new_train.month_value = new_train.month_value.map(month_value_name_map)\n",
        "\"\"\"\n",
        "new_train.month_value.value_counts()\n",
        "\n",
        "#new_train = pd.get_dummies(new_train, columns = ['month_value'], prefix='month_')\n",
        "new_train.head()"
      ],
      "execution_count": 394,
      "outputs": [
        {
          "output_type": "stream",
          "text": [
            "/usr/local/lib/python3.6/dist-packages/ipykernel_launcher.py:1: SettingWithCopyWarning: \n",
            "A value is trying to be set on a copy of a slice from a DataFrame.\n",
            "Try using .loc[row_indexer,col_indexer] = value instead\n",
            "\n",
            "See the caveats in the documentation: http://pandas.pydata.org/pandas-docs/stable/user_guide/indexing.html#returning-a-view-versus-a-copy\n",
            "  \"\"\"Entry point for launching an IPython kernel.\n"
          ],
          "name": "stderr"
        },
        {
          "output_type": "execute_result",
          "data": {
            "text/html": [
              "<div>\n",
              "<style scoped>\n",
              "    .dataframe tbody tr th:only-of-type {\n",
              "        vertical-align: middle;\n",
              "    }\n",
              "\n",
              "    .dataframe tbody tr th {\n",
              "        vertical-align: top;\n",
              "    }\n",
              "\n",
              "    .dataframe thead th {\n",
              "        text-align: right;\n",
              "    }\n",
              "</style>\n",
              "<table border=\"1\" class=\"dataframe\">\n",
              "  <thead>\n",
              "    <tr style=\"text-align: right;\">\n",
              "      <th></th>\n",
              "      <th>date_block_num</th>\n",
              "      <th>shop_id</th>\n",
              "      <th>item_id</th>\n",
              "      <th>item_category_id</th>\n",
              "      <th>item_cnt_day</th>\n",
              "      <th>item_price</th>\n",
              "      <th>month_value</th>\n",
              "    </tr>\n",
              "  </thead>\n",
              "  <tbody>\n",
              "    <tr>\n",
              "      <th>0</th>\n",
              "      <td>0</td>\n",
              "      <td>59</td>\n",
              "      <td>22154</td>\n",
              "      <td>37</td>\n",
              "      <td>1.0</td>\n",
              "      <td>999.00</td>\n",
              "      <td>0.0</td>\n",
              "    </tr>\n",
              "    <tr>\n",
              "      <th>1</th>\n",
              "      <td>0</td>\n",
              "      <td>25</td>\n",
              "      <td>2552</td>\n",
              "      <td>58</td>\n",
              "      <td>1.0</td>\n",
              "      <td>899.00</td>\n",
              "      <td>0.0</td>\n",
              "    </tr>\n",
              "    <tr>\n",
              "      <th>2</th>\n",
              "      <td>0</td>\n",
              "      <td>25</td>\n",
              "      <td>2552</td>\n",
              "      <td>58</td>\n",
              "      <td>-1.0</td>\n",
              "      <td>899.00</td>\n",
              "      <td>0.0</td>\n",
              "    </tr>\n",
              "    <tr>\n",
              "      <th>3</th>\n",
              "      <td>0</td>\n",
              "      <td>25</td>\n",
              "      <td>2554</td>\n",
              "      <td>58</td>\n",
              "      <td>1.0</td>\n",
              "      <td>1709.05</td>\n",
              "      <td>0.0</td>\n",
              "    </tr>\n",
              "    <tr>\n",
              "      <th>4</th>\n",
              "      <td>0</td>\n",
              "      <td>25</td>\n",
              "      <td>2555</td>\n",
              "      <td>56</td>\n",
              "      <td>1.0</td>\n",
              "      <td>1099.00</td>\n",
              "      <td>0.0</td>\n",
              "    </tr>\n",
              "  </tbody>\n",
              "</table>\n",
              "</div>"
            ],
            "text/plain": [
              "   date_block_num  shop_id  item_id  ...  item_cnt_day  item_price  month_value\n",
              "0               0       59    22154  ...           1.0      999.00          0.0\n",
              "1               0       25     2552  ...           1.0      899.00          0.0\n",
              "2               0       25     2552  ...          -1.0      899.00          0.0\n",
              "3               0       25     2554  ...           1.0     1709.05          0.0\n",
              "4               0       25     2555  ...           1.0     1099.00          0.0\n",
              "\n",
              "[5 rows x 7 columns]"
            ]
          },
          "metadata": {
            "tags": []
          },
          "execution_count": 394
        }
      ]
    },
    {
      "cell_type": "code",
      "metadata": {
        "id": "jUwWabU8SFhv",
        "colab_type": "code",
        "colab": {
          "base_uri": "https://localhost:8080/",
          "height": 219
        },
        "outputId": "2f407f3d-e434-4717-c86c-e88f304566b2"
      },
      "source": [
        "negativeValues = new_train[new_train['item_cnt_day'] < 0].index\n",
        "new_train.drop(negativeValues, inplace=True)\n",
        "new_train['date_block_num'] = new_train['date_block_num']/34"
      ],
      "execution_count": 395,
      "outputs": [
        {
          "output_type": "stream",
          "text": [
            "/usr/local/lib/python3.6/dist-packages/pandas/core/frame.py:4117: SettingWithCopyWarning: \n",
            "A value is trying to be set on a copy of a slice from a DataFrame\n",
            "\n",
            "See the caveats in the documentation: http://pandas.pydata.org/pandas-docs/stable/user_guide/indexing.html#returning-a-view-versus-a-copy\n",
            "  errors=errors,\n",
            "/usr/local/lib/python3.6/dist-packages/ipykernel_launcher.py:3: SettingWithCopyWarning: \n",
            "A value is trying to be set on a copy of a slice from a DataFrame.\n",
            "Try using .loc[row_indexer,col_indexer] = value instead\n",
            "\n",
            "See the caveats in the documentation: http://pandas.pydata.org/pandas-docs/stable/user_guide/indexing.html#returning-a-view-versus-a-copy\n",
            "  This is separate from the ipykernel package so we can avoid doing imports until\n"
          ],
          "name": "stderr"
        }
      ]
    },
    {
      "cell_type": "code",
      "metadata": {
        "id": "4MAy_ezvSFh0",
        "colab_type": "code",
        "colab": {}
      },
      "source": [
        "#month_cols = ['month__'+ v for v in month_value_name_map.values()]\n",
        "grouped_train = pd.DataFrame(new_train.groupby(['date_block_num','shop_id','item_id','item_category_id','month_value','item_price'])['item_cnt_day'].sum().reset_index())"
      ],
      "execution_count": 0,
      "outputs": []
    },
    {
      "cell_type": "code",
      "metadata": {
        "id": "ofwQrNYqSFiE",
        "colab_type": "code",
        "outputId": "a4437d0f-7973-4546-9f49-45f2b0bce65c",
        "colab": {
          "base_uri": "https://localhost:8080/",
          "height": 35
        }
      },
      "source": [
        "grouped_train.shape"
      ],
      "execution_count": 397,
      "outputs": [
        {
          "output_type": "execute_result",
          "data": {
            "text/plain": [
              "(1737866, 7)"
            ]
          },
          "metadata": {
            "tags": []
          },
          "execution_count": 397
        }
      ]
    },
    {
      "cell_type": "code",
      "metadata": {
        "id": "u53A7WoASFiO",
        "colab_type": "code",
        "outputId": "5732042a-c612-45f9-c3bd-21574631ecf0",
        "colab": {
          "base_uri": "https://localhost:8080/",
          "height": 206
        }
      },
      "source": [
        "grouped_train.head()"
      ],
      "execution_count": 398,
      "outputs": [
        {
          "output_type": "execute_result",
          "data": {
            "text/html": [
              "<div>\n",
              "<style scoped>\n",
              "    .dataframe tbody tr th:only-of-type {\n",
              "        vertical-align: middle;\n",
              "    }\n",
              "\n",
              "    .dataframe tbody tr th {\n",
              "        vertical-align: top;\n",
              "    }\n",
              "\n",
              "    .dataframe thead th {\n",
              "        text-align: right;\n",
              "    }\n",
              "</style>\n",
              "<table border=\"1\" class=\"dataframe\">\n",
              "  <thead>\n",
              "    <tr style=\"text-align: right;\">\n",
              "      <th></th>\n",
              "      <th>date_block_num</th>\n",
              "      <th>shop_id</th>\n",
              "      <th>item_id</th>\n",
              "      <th>item_category_id</th>\n",
              "      <th>month_value</th>\n",
              "      <th>item_price</th>\n",
              "      <th>item_cnt_day</th>\n",
              "    </tr>\n",
              "  </thead>\n",
              "  <tbody>\n",
              "    <tr>\n",
              "      <th>0</th>\n",
              "      <td>0.0</td>\n",
              "      <td>0</td>\n",
              "      <td>32</td>\n",
              "      <td>40</td>\n",
              "      <td>0.0</td>\n",
              "      <td>221.0</td>\n",
              "      <td>6.0</td>\n",
              "    </tr>\n",
              "    <tr>\n",
              "      <th>1</th>\n",
              "      <td>0.0</td>\n",
              "      <td>0</td>\n",
              "      <td>33</td>\n",
              "      <td>37</td>\n",
              "      <td>0.0</td>\n",
              "      <td>347.0</td>\n",
              "      <td>3.0</td>\n",
              "    </tr>\n",
              "    <tr>\n",
              "      <th>2</th>\n",
              "      <td>0.0</td>\n",
              "      <td>0</td>\n",
              "      <td>35</td>\n",
              "      <td>40</td>\n",
              "      <td>0.0</td>\n",
              "      <td>247.0</td>\n",
              "      <td>1.0</td>\n",
              "    </tr>\n",
              "    <tr>\n",
              "      <th>3</th>\n",
              "      <td>0.0</td>\n",
              "      <td>0</td>\n",
              "      <td>43</td>\n",
              "      <td>40</td>\n",
              "      <td>0.0</td>\n",
              "      <td>221.0</td>\n",
              "      <td>1.0</td>\n",
              "    </tr>\n",
              "    <tr>\n",
              "      <th>4</th>\n",
              "      <td>0.0</td>\n",
              "      <td>0</td>\n",
              "      <td>51</td>\n",
              "      <td>57</td>\n",
              "      <td>0.0</td>\n",
              "      <td>127.0</td>\n",
              "      <td>1.0</td>\n",
              "    </tr>\n",
              "  </tbody>\n",
              "</table>\n",
              "</div>"
            ],
            "text/plain": [
              "   date_block_num  shop_id  item_id  ...  month_value  item_price  item_cnt_day\n",
              "0             0.0        0       32  ...          0.0       221.0           6.0\n",
              "1             0.0        0       33  ...          0.0       347.0           3.0\n",
              "2             0.0        0       35  ...          0.0       247.0           1.0\n",
              "3             0.0        0       43  ...          0.0       221.0           1.0\n",
              "4             0.0        0       51  ...          0.0       127.0           1.0\n",
              "\n",
              "[5 rows x 7 columns]"
            ]
          },
          "metadata": {
            "tags": []
          },
          "execution_count": 398
        }
      ]
    },
    {
      "cell_type": "code",
      "metadata": {
        "id": "_2e8dnoCSFiY",
        "colab_type": "code",
        "outputId": "78ca030f-9ea8-438d-870b-c8d89b4e2e38",
        "colab": {
          "base_uri": "https://localhost:8080/",
          "height": 257
        }
      },
      "source": [
        "cat_enc = OneHotEncoder()\n",
        "transformed = ['item_category_id', 'shop_id']\n",
        "cat_enc.fit(grouped_train[transformed])\n",
        "transformed_train = pd.DataFrame(data=cat_enc.transform(grouped_train[transformed]).toarray())\n",
        "transformed_train = pd.concat([grouped_train, transformed_train],axis=1)\n",
        "print(transformed_train.head())"
      ],
      "execution_count": 399,
      "outputs": [
        {
          "output_type": "stream",
          "text": [
            "/usr/local/lib/python3.6/dist-packages/sklearn/preprocessing/_encoders.py:415: FutureWarning: The handling of integer data will change in version 0.22. Currently, the categories are determined based on the range [0, max(values)], while in the future they will be determined based on the unique values.\n",
            "If you want the future behaviour and silence this warning, you can specify \"categories='auto'\".\n",
            "In case you used a LabelEncoder before this OneHotEncoder to convert the categories to integers, then you can now use the OneHotEncoder directly.\n",
            "  warnings.warn(msg, FutureWarning)\n"
          ],
          "name": "stderr"
        },
        {
          "output_type": "stream",
          "text": [
            "   date_block_num  shop_id  item_id  item_category_id  ...  140  141  142  143\n",
            "0             0.0        0       32                40  ...  0.0  0.0  0.0  0.0\n",
            "1             0.0        0       33                37  ...  0.0  0.0  0.0  0.0\n",
            "2             0.0        0       35                40  ...  0.0  0.0  0.0  0.0\n",
            "3             0.0        0       43                40  ...  0.0  0.0  0.0  0.0\n",
            "4             0.0        0       51                57  ...  0.0  0.0  0.0  0.0\n",
            "\n",
            "[5 rows x 151 columns]\n"
          ],
          "name": "stdout"
        }
      ]
    },
    {
      "cell_type": "code",
      "metadata": {
        "id": "x-g6dE8hSFif",
        "colab_type": "code",
        "colab": {}
      },
      "source": [
        "columns = ['date_block_num','month_value','item_price'] + list(i for i in range(144))\n",
        "non_cat_columns = ['date_block_num','item_price']\n",
        "\n",
        "price_scaler = StandardScaler()\n",
        "y_scaler = StandardScaler()\n",
        "\n",
        "train_prices = np.asarray(transformed_train['item_price'].sample(frac=1)).reshape(-1,1)\n",
        "price_scaler.fit(train_prices)\n",
        "transformed_train['item_price'] = price_scaler.transform(train_prices)\n",
        "\n",
        "X_train, X_test, y_train, y_test = train_test_split(transformed_train[columns], transformed_train['item_cnt_day'], test_size=0.15, random_state=42)\n",
        "y_scaler.fit(np.asarray(y_train).reshape(-1,1))\n",
        "y_train = y_scaler.transform(np.asarray(y_train).reshape(-1,1))\n",
        "y_test = y_scaler.transform(np.asarray(y_test).reshape(-1,1))"
      ],
      "execution_count": 0,
      "outputs": []
    },
    {
      "cell_type": "code",
      "metadata": {
        "id": "EjcpZIQCSFik",
        "colab_type": "code",
        "outputId": "8216b9dc-4ac5-4fcd-f3de-46c3f96544c3",
        "colab": {
          "base_uri": "https://localhost:8080/",
          "height": 348
        }
      },
      "source": [
        "print(X_test.head())\n",
        "print(y_train[:10])"
      ],
      "execution_count": 402,
      "outputs": [
        {
          "output_type": "stream",
          "text": [
            "         date_block_num  month_value  item_price    0  ...  140  141  142  143\n",
            "192703         0.058824     0.181818    0.264285  0.0  ...  0.0  0.0  0.0  0.0\n",
            "696495         0.323529     1.000000   -0.404896  0.0  ...  0.0  0.0  0.0  0.0\n",
            "829725         0.382353     0.090909   -0.346706  0.0  ...  0.0  0.0  0.0  0.0\n",
            "1373740        0.705882     0.000000   -0.346706  0.0  ...  0.0  0.0  0.0  0.0\n",
            "1451856        0.764706     0.181818   -0.201232  0.0  ...  0.0  0.0  0.0  0.0\n",
            "\n",
            "[5 rows x 147 columns]\n",
            "[[-0.14738061]\n",
            " [-0.14738061]\n",
            " [ 0.38738799]\n",
            " [-0.01368846]\n",
            " [-0.01368846]\n",
            " [-0.14738061]\n",
            " [-0.14738061]\n",
            " [-0.14738061]\n",
            " [-0.14738061]\n",
            " [-0.14738061]]\n"
          ],
          "name": "stdout"
        }
      ]
    },
    {
      "cell_type": "code",
      "metadata": {
        "id": "3PIg54RASFit",
        "colab_type": "code",
        "outputId": "c1075e7e-a2f4-444b-eb93-ffbcf386c7ad",
        "colab": {
          "base_uri": "https://localhost:8080/",
          "height": 206
        }
      },
      "source": [
        "X_dev = test\n",
        "#X_dev.drop('ID',inplace=True, axis=1)\n",
        "X_dev['date_block_num'] = 1\n",
        "X_dev['month_value'] = 10/11\n",
        "X_dev['item_category_id'] = X_dev['item_id'].map(item_to_cat)\n",
        "#X_dev['item_category_id'] = X_dev['item_category_id'].map(item_categories_simplify_dict)\n",
        "#X_dev['shop_id'] = X_dev['shop_id'].map(shop_names_simplify_dict)\n",
        "X_dev.head()"
      ],
      "execution_count": 403,
      "outputs": [
        {
          "output_type": "execute_result",
          "data": {
            "text/html": [
              "<div>\n",
              "<style scoped>\n",
              "    .dataframe tbody tr th:only-of-type {\n",
              "        vertical-align: middle;\n",
              "    }\n",
              "\n",
              "    .dataframe tbody tr th {\n",
              "        vertical-align: top;\n",
              "    }\n",
              "\n",
              "    .dataframe thead th {\n",
              "        text-align: right;\n",
              "    }\n",
              "</style>\n",
              "<table border=\"1\" class=\"dataframe\">\n",
              "  <thead>\n",
              "    <tr style=\"text-align: right;\">\n",
              "      <th></th>\n",
              "      <th>ID</th>\n",
              "      <th>shop_id</th>\n",
              "      <th>item_id</th>\n",
              "      <th>date_block_num</th>\n",
              "      <th>month_value</th>\n",
              "      <th>item_category_id</th>\n",
              "    </tr>\n",
              "  </thead>\n",
              "  <tbody>\n",
              "    <tr>\n",
              "      <th>0</th>\n",
              "      <td>0</td>\n",
              "      <td>5</td>\n",
              "      <td>5037</td>\n",
              "      <td>1</td>\n",
              "      <td>0.909091</td>\n",
              "      <td>19</td>\n",
              "    </tr>\n",
              "    <tr>\n",
              "      <th>1</th>\n",
              "      <td>1</td>\n",
              "      <td>5</td>\n",
              "      <td>5320</td>\n",
              "      <td>1</td>\n",
              "      <td>0.909091</td>\n",
              "      <td>55</td>\n",
              "    </tr>\n",
              "    <tr>\n",
              "      <th>2</th>\n",
              "      <td>2</td>\n",
              "      <td>5</td>\n",
              "      <td>5233</td>\n",
              "      <td>1</td>\n",
              "      <td>0.909091</td>\n",
              "      <td>19</td>\n",
              "    </tr>\n",
              "    <tr>\n",
              "      <th>3</th>\n",
              "      <td>3</td>\n",
              "      <td>5</td>\n",
              "      <td>5232</td>\n",
              "      <td>1</td>\n",
              "      <td>0.909091</td>\n",
              "      <td>23</td>\n",
              "    </tr>\n",
              "    <tr>\n",
              "      <th>4</th>\n",
              "      <td>4</td>\n",
              "      <td>5</td>\n",
              "      <td>5268</td>\n",
              "      <td>1</td>\n",
              "      <td>0.909091</td>\n",
              "      <td>20</td>\n",
              "    </tr>\n",
              "  </tbody>\n",
              "</table>\n",
              "</div>"
            ],
            "text/plain": [
              "   ID  shop_id  item_id  date_block_num  month_value  item_category_id\n",
              "0   0        5     5037               1     0.909091                19\n",
              "1   1        5     5320               1     0.909091                55\n",
              "2   2        5     5233               1     0.909091                19\n",
              "3   3        5     5232               1     0.909091                23\n",
              "4   4        5     5268               1     0.909091                20"
            ]
          },
          "metadata": {
            "tags": []
          },
          "execution_count": 403
        }
      ]
    },
    {
      "cell_type": "code",
      "metadata": {
        "id": "nHtU4RVSSFiz",
        "colab_type": "code",
        "outputId": "90d10ea8-158b-4290-9605-775c169e2277",
        "colab": {
          "base_uri": "https://localhost:8080/",
          "height": 463
        }
      },
      "source": [
        "mean_prices=pd.DataFrame(new_train.groupby(['item_id'])['item_price'].mean().reset_index())\n",
        "mean_prices_for_cat = pd.DataFrame(train.groupby(['item_category_id_'])['item_price'].mean().reset_index())\n",
        "print(mean_prices_for_cat)\n",
        "def get_price_for_id(item_id, item_category_id):\n",
        "  try:\n",
        "    return float(mean_prices[mean_prices.item_id == item_id].item_price)\n",
        "  except:\n",
        "    #print(mean_prices_for_cat[mean_prices_for_cat.item_category_id == item_category_id].item_price)\n",
        "    return float(mean_prices_for_cat[mean_prices_for_cat.item_category_id_ == item_category_id].item_price)\n",
        "\n",
        "item_ids = list(X_dev.item_id.unique())\n",
        "id_to_price = {}\n",
        "for item_id in item_ids:\n",
        "    item_category = item_to_cat.get(item_id)\n",
        "    id_to_price[item_id] = get_price_for_id(item_id, item_category)\n",
        "X_dev['item_price'] = X_dev['item_id'].map(id_to_price)\n",
        "dev_prices = np.asarray(X_dev['item_price']).reshape(-1,1)\n",
        "dev_prices = price_scaler.transform(dev_prices)\n",
        "X_dev['item_price'] = dev_prices\n",
        "X_dev.head()"
      ],
      "execution_count": 404,
      "outputs": [
        {
          "output_type": "stream",
          "text": [
            "    item_category_id_   item_price\n",
            "0                   0    87.800000\n",
            "1                   1   215.500000\n",
            "2                   2  2261.705152\n",
            "3                   3  2105.683642\n",
            "4                   4   554.696081\n",
            "..                ...          ...\n",
            "79                 79  1094.625747\n",
            "80                 80  1246.064128\n",
            "81                 81   189.050314\n",
            "82                 82    32.481014\n",
            "83                 83   100.280925\n",
            "\n",
            "[84 rows x 2 columns]\n"
          ],
          "name": "stdout"
        },
        {
          "output_type": "execute_result",
          "data": {
            "text/html": [
              "<div>\n",
              "<style scoped>\n",
              "    .dataframe tbody tr th:only-of-type {\n",
              "        vertical-align: middle;\n",
              "    }\n",
              "\n",
              "    .dataframe tbody tr th {\n",
              "        vertical-align: top;\n",
              "    }\n",
              "\n",
              "    .dataframe thead th {\n",
              "        text-align: right;\n",
              "    }\n",
              "</style>\n",
              "<table border=\"1\" class=\"dataframe\">\n",
              "  <thead>\n",
              "    <tr style=\"text-align: right;\">\n",
              "      <th></th>\n",
              "      <th>ID</th>\n",
              "      <th>shop_id</th>\n",
              "      <th>item_id</th>\n",
              "      <th>date_block_num</th>\n",
              "      <th>month_value</th>\n",
              "      <th>item_category_id</th>\n",
              "      <th>item_price</th>\n",
              "    </tr>\n",
              "  </thead>\n",
              "  <tbody>\n",
              "    <tr>\n",
              "      <th>0</th>\n",
              "      <td>0</td>\n",
              "      <td>5</td>\n",
              "      <td>5037</td>\n",
              "      <td>1</td>\n",
              "      <td>0.909091</td>\n",
              "      <td>19</td>\n",
              "      <td>1923.611577</td>\n",
              "    </tr>\n",
              "    <tr>\n",
              "      <th>1</th>\n",
              "      <td>1</td>\n",
              "      <td>5</td>\n",
              "      <td>5320</td>\n",
              "      <td>1</td>\n",
              "      <td>0.909091</td>\n",
              "      <td>55</td>\n",
              "      <td>286.209370</td>\n",
              "    </tr>\n",
              "    <tr>\n",
              "      <th>2</th>\n",
              "      <td>2</td>\n",
              "      <td>5</td>\n",
              "      <td>5233</td>\n",
              "      <td>1</td>\n",
              "      <td>0.909091</td>\n",
              "      <td>19</td>\n",
              "      <td>800.777500</td>\n",
              "    </tr>\n",
              "    <tr>\n",
              "      <th>3</th>\n",
              "      <td>3</td>\n",
              "      <td>5</td>\n",
              "      <td>5232</td>\n",
              "      <td>1</td>\n",
              "      <td>0.909091</td>\n",
              "      <td>23</td>\n",
              "      <td>787.346357</td>\n",
              "    </tr>\n",
              "    <tr>\n",
              "      <th>4</th>\n",
              "      <td>4</td>\n",
              "      <td>5</td>\n",
              "      <td>5268</td>\n",
              "      <td>1</td>\n",
              "      <td>0.909091</td>\n",
              "      <td>20</td>\n",
              "      <td>2791.779820</td>\n",
              "    </tr>\n",
              "  </tbody>\n",
              "</table>\n",
              "</div>"
            ],
            "text/plain": [
              "   ID  shop_id  item_id  ...  month_value  item_category_id   item_price\n",
              "0   0        5     5037  ...     0.909091                19  1923.611577\n",
              "1   1        5     5320  ...     0.909091                55   286.209370\n",
              "2   2        5     5233  ...     0.909091                19   800.777500\n",
              "3   3        5     5232  ...     0.909091                23   787.346357\n",
              "4   4        5     5268  ...     0.909091                20  2791.779820\n",
              "\n",
              "[5 rows x 7 columns]"
            ]
          },
          "metadata": {
            "tags": []
          },
          "execution_count": 404
        }
      ]
    },
    {
      "cell_type": "code",
      "metadata": {
        "id": "LZRSnnC3SFi5",
        "colab_type": "code",
        "outputId": "a9ee81bc-ed28-47ba-9311-0de8904e9b40",
        "colab": {
          "base_uri": "https://localhost:8080/",
          "height": 256
        }
      },
      "source": [
        "transformed = ['item_category_id','shop_id']\n",
        "#print(X_dev[transformed])\n",
        "transformed_test = pd.DataFrame(data=cat_enc.transform(X_dev[transformed]).toarray())\n",
        "transformed_test = pd.concat([X_dev, transformed_test],axis=1)\n",
        "transformed_test.head()"
      ],
      "execution_count": 405,
      "outputs": [
        {
          "output_type": "execute_result",
          "data": {
            "text/html": [
              "<div>\n",
              "<style scoped>\n",
              "    .dataframe tbody tr th:only-of-type {\n",
              "        vertical-align: middle;\n",
              "    }\n",
              "\n",
              "    .dataframe tbody tr th {\n",
              "        vertical-align: top;\n",
              "    }\n",
              "\n",
              "    .dataframe thead th {\n",
              "        text-align: right;\n",
              "    }\n",
              "</style>\n",
              "<table border=\"1\" class=\"dataframe\">\n",
              "  <thead>\n",
              "    <tr style=\"text-align: right;\">\n",
              "      <th></th>\n",
              "      <th>ID</th>\n",
              "      <th>shop_id</th>\n",
              "      <th>item_id</th>\n",
              "      <th>date_block_num</th>\n",
              "      <th>month_value</th>\n",
              "      <th>item_category_id</th>\n",
              "      <th>item_price</th>\n",
              "      <th>0</th>\n",
              "      <th>1</th>\n",
              "      <th>2</th>\n",
              "      <th>3</th>\n",
              "      <th>4</th>\n",
              "      <th>5</th>\n",
              "      <th>6</th>\n",
              "      <th>7</th>\n",
              "      <th>8</th>\n",
              "      <th>9</th>\n",
              "      <th>10</th>\n",
              "      <th>11</th>\n",
              "      <th>12</th>\n",
              "      <th>13</th>\n",
              "      <th>14</th>\n",
              "      <th>15</th>\n",
              "      <th>16</th>\n",
              "      <th>17</th>\n",
              "      <th>18</th>\n",
              "      <th>19</th>\n",
              "      <th>20</th>\n",
              "      <th>21</th>\n",
              "      <th>22</th>\n",
              "      <th>23</th>\n",
              "      <th>24</th>\n",
              "      <th>25</th>\n",
              "      <th>26</th>\n",
              "      <th>27</th>\n",
              "      <th>28</th>\n",
              "      <th>29</th>\n",
              "      <th>30</th>\n",
              "      <th>31</th>\n",
              "      <th>32</th>\n",
              "      <th>...</th>\n",
              "      <th>104</th>\n",
              "      <th>105</th>\n",
              "      <th>106</th>\n",
              "      <th>107</th>\n",
              "      <th>108</th>\n",
              "      <th>109</th>\n",
              "      <th>110</th>\n",
              "      <th>111</th>\n",
              "      <th>112</th>\n",
              "      <th>113</th>\n",
              "      <th>114</th>\n",
              "      <th>115</th>\n",
              "      <th>116</th>\n",
              "      <th>117</th>\n",
              "      <th>118</th>\n",
              "      <th>119</th>\n",
              "      <th>120</th>\n",
              "      <th>121</th>\n",
              "      <th>122</th>\n",
              "      <th>123</th>\n",
              "      <th>124</th>\n",
              "      <th>125</th>\n",
              "      <th>126</th>\n",
              "      <th>127</th>\n",
              "      <th>128</th>\n",
              "      <th>129</th>\n",
              "      <th>130</th>\n",
              "      <th>131</th>\n",
              "      <th>132</th>\n",
              "      <th>133</th>\n",
              "      <th>134</th>\n",
              "      <th>135</th>\n",
              "      <th>136</th>\n",
              "      <th>137</th>\n",
              "      <th>138</th>\n",
              "      <th>139</th>\n",
              "      <th>140</th>\n",
              "      <th>141</th>\n",
              "      <th>142</th>\n",
              "      <th>143</th>\n",
              "    </tr>\n",
              "  </thead>\n",
              "  <tbody>\n",
              "    <tr>\n",
              "      <th>0</th>\n",
              "      <td>0</td>\n",
              "      <td>5</td>\n",
              "      <td>5037</td>\n",
              "      <td>1</td>\n",
              "      <td>0.909091</td>\n",
              "      <td>19</td>\n",
              "      <td>1923.611577</td>\n",
              "      <td>0.0</td>\n",
              "      <td>0.0</td>\n",
              "      <td>0.0</td>\n",
              "      <td>0.0</td>\n",
              "      <td>0.0</td>\n",
              "      <td>0.0</td>\n",
              "      <td>0.0</td>\n",
              "      <td>0.0</td>\n",
              "      <td>0.0</td>\n",
              "      <td>0.0</td>\n",
              "      <td>0.0</td>\n",
              "      <td>0.0</td>\n",
              "      <td>0.0</td>\n",
              "      <td>0.0</td>\n",
              "      <td>0.0</td>\n",
              "      <td>0.0</td>\n",
              "      <td>0.0</td>\n",
              "      <td>0.0</td>\n",
              "      <td>0.0</td>\n",
              "      <td>1.0</td>\n",
              "      <td>0.0</td>\n",
              "      <td>0.0</td>\n",
              "      <td>0.0</td>\n",
              "      <td>0.0</td>\n",
              "      <td>0.0</td>\n",
              "      <td>0.0</td>\n",
              "      <td>0.0</td>\n",
              "      <td>0.0</td>\n",
              "      <td>0.0</td>\n",
              "      <td>0.0</td>\n",
              "      <td>0.0</td>\n",
              "      <td>0.0</td>\n",
              "      <td>0.0</td>\n",
              "      <td>...</td>\n",
              "      <td>0.0</td>\n",
              "      <td>0.0</td>\n",
              "      <td>0.0</td>\n",
              "      <td>0.0</td>\n",
              "      <td>0.0</td>\n",
              "      <td>0.0</td>\n",
              "      <td>0.0</td>\n",
              "      <td>0.0</td>\n",
              "      <td>0.0</td>\n",
              "      <td>0.0</td>\n",
              "      <td>0.0</td>\n",
              "      <td>0.0</td>\n",
              "      <td>0.0</td>\n",
              "      <td>0.0</td>\n",
              "      <td>0.0</td>\n",
              "      <td>0.0</td>\n",
              "      <td>0.0</td>\n",
              "      <td>0.0</td>\n",
              "      <td>0.0</td>\n",
              "      <td>0.0</td>\n",
              "      <td>0.0</td>\n",
              "      <td>0.0</td>\n",
              "      <td>0.0</td>\n",
              "      <td>0.0</td>\n",
              "      <td>0.0</td>\n",
              "      <td>0.0</td>\n",
              "      <td>0.0</td>\n",
              "      <td>0.0</td>\n",
              "      <td>0.0</td>\n",
              "      <td>0.0</td>\n",
              "      <td>0.0</td>\n",
              "      <td>0.0</td>\n",
              "      <td>0.0</td>\n",
              "      <td>0.0</td>\n",
              "      <td>0.0</td>\n",
              "      <td>0.0</td>\n",
              "      <td>0.0</td>\n",
              "      <td>0.0</td>\n",
              "      <td>0.0</td>\n",
              "      <td>0.0</td>\n",
              "    </tr>\n",
              "    <tr>\n",
              "      <th>1</th>\n",
              "      <td>1</td>\n",
              "      <td>5</td>\n",
              "      <td>5320</td>\n",
              "      <td>1</td>\n",
              "      <td>0.909091</td>\n",
              "      <td>55</td>\n",
              "      <td>286.209370</td>\n",
              "      <td>0.0</td>\n",
              "      <td>0.0</td>\n",
              "      <td>0.0</td>\n",
              "      <td>0.0</td>\n",
              "      <td>0.0</td>\n",
              "      <td>0.0</td>\n",
              "      <td>0.0</td>\n",
              "      <td>0.0</td>\n",
              "      <td>0.0</td>\n",
              "      <td>0.0</td>\n",
              "      <td>0.0</td>\n",
              "      <td>0.0</td>\n",
              "      <td>0.0</td>\n",
              "      <td>0.0</td>\n",
              "      <td>0.0</td>\n",
              "      <td>0.0</td>\n",
              "      <td>0.0</td>\n",
              "      <td>0.0</td>\n",
              "      <td>0.0</td>\n",
              "      <td>0.0</td>\n",
              "      <td>0.0</td>\n",
              "      <td>0.0</td>\n",
              "      <td>0.0</td>\n",
              "      <td>0.0</td>\n",
              "      <td>0.0</td>\n",
              "      <td>0.0</td>\n",
              "      <td>0.0</td>\n",
              "      <td>0.0</td>\n",
              "      <td>0.0</td>\n",
              "      <td>0.0</td>\n",
              "      <td>0.0</td>\n",
              "      <td>0.0</td>\n",
              "      <td>0.0</td>\n",
              "      <td>...</td>\n",
              "      <td>0.0</td>\n",
              "      <td>0.0</td>\n",
              "      <td>0.0</td>\n",
              "      <td>0.0</td>\n",
              "      <td>0.0</td>\n",
              "      <td>0.0</td>\n",
              "      <td>0.0</td>\n",
              "      <td>0.0</td>\n",
              "      <td>0.0</td>\n",
              "      <td>0.0</td>\n",
              "      <td>0.0</td>\n",
              "      <td>0.0</td>\n",
              "      <td>0.0</td>\n",
              "      <td>0.0</td>\n",
              "      <td>0.0</td>\n",
              "      <td>0.0</td>\n",
              "      <td>0.0</td>\n",
              "      <td>0.0</td>\n",
              "      <td>0.0</td>\n",
              "      <td>0.0</td>\n",
              "      <td>0.0</td>\n",
              "      <td>0.0</td>\n",
              "      <td>0.0</td>\n",
              "      <td>0.0</td>\n",
              "      <td>0.0</td>\n",
              "      <td>0.0</td>\n",
              "      <td>0.0</td>\n",
              "      <td>0.0</td>\n",
              "      <td>0.0</td>\n",
              "      <td>0.0</td>\n",
              "      <td>0.0</td>\n",
              "      <td>0.0</td>\n",
              "      <td>0.0</td>\n",
              "      <td>0.0</td>\n",
              "      <td>0.0</td>\n",
              "      <td>0.0</td>\n",
              "      <td>0.0</td>\n",
              "      <td>0.0</td>\n",
              "      <td>0.0</td>\n",
              "      <td>0.0</td>\n",
              "    </tr>\n",
              "    <tr>\n",
              "      <th>2</th>\n",
              "      <td>2</td>\n",
              "      <td>5</td>\n",
              "      <td>5233</td>\n",
              "      <td>1</td>\n",
              "      <td>0.909091</td>\n",
              "      <td>19</td>\n",
              "      <td>800.777500</td>\n",
              "      <td>0.0</td>\n",
              "      <td>0.0</td>\n",
              "      <td>0.0</td>\n",
              "      <td>0.0</td>\n",
              "      <td>0.0</td>\n",
              "      <td>0.0</td>\n",
              "      <td>0.0</td>\n",
              "      <td>0.0</td>\n",
              "      <td>0.0</td>\n",
              "      <td>0.0</td>\n",
              "      <td>0.0</td>\n",
              "      <td>0.0</td>\n",
              "      <td>0.0</td>\n",
              "      <td>0.0</td>\n",
              "      <td>0.0</td>\n",
              "      <td>0.0</td>\n",
              "      <td>0.0</td>\n",
              "      <td>0.0</td>\n",
              "      <td>0.0</td>\n",
              "      <td>1.0</td>\n",
              "      <td>0.0</td>\n",
              "      <td>0.0</td>\n",
              "      <td>0.0</td>\n",
              "      <td>0.0</td>\n",
              "      <td>0.0</td>\n",
              "      <td>0.0</td>\n",
              "      <td>0.0</td>\n",
              "      <td>0.0</td>\n",
              "      <td>0.0</td>\n",
              "      <td>0.0</td>\n",
              "      <td>0.0</td>\n",
              "      <td>0.0</td>\n",
              "      <td>0.0</td>\n",
              "      <td>...</td>\n",
              "      <td>0.0</td>\n",
              "      <td>0.0</td>\n",
              "      <td>0.0</td>\n",
              "      <td>0.0</td>\n",
              "      <td>0.0</td>\n",
              "      <td>0.0</td>\n",
              "      <td>0.0</td>\n",
              "      <td>0.0</td>\n",
              "      <td>0.0</td>\n",
              "      <td>0.0</td>\n",
              "      <td>0.0</td>\n",
              "      <td>0.0</td>\n",
              "      <td>0.0</td>\n",
              "      <td>0.0</td>\n",
              "      <td>0.0</td>\n",
              "      <td>0.0</td>\n",
              "      <td>0.0</td>\n",
              "      <td>0.0</td>\n",
              "      <td>0.0</td>\n",
              "      <td>0.0</td>\n",
              "      <td>0.0</td>\n",
              "      <td>0.0</td>\n",
              "      <td>0.0</td>\n",
              "      <td>0.0</td>\n",
              "      <td>0.0</td>\n",
              "      <td>0.0</td>\n",
              "      <td>0.0</td>\n",
              "      <td>0.0</td>\n",
              "      <td>0.0</td>\n",
              "      <td>0.0</td>\n",
              "      <td>0.0</td>\n",
              "      <td>0.0</td>\n",
              "      <td>0.0</td>\n",
              "      <td>0.0</td>\n",
              "      <td>0.0</td>\n",
              "      <td>0.0</td>\n",
              "      <td>0.0</td>\n",
              "      <td>0.0</td>\n",
              "      <td>0.0</td>\n",
              "      <td>0.0</td>\n",
              "    </tr>\n",
              "    <tr>\n",
              "      <th>3</th>\n",
              "      <td>3</td>\n",
              "      <td>5</td>\n",
              "      <td>5232</td>\n",
              "      <td>1</td>\n",
              "      <td>0.909091</td>\n",
              "      <td>23</td>\n",
              "      <td>787.346357</td>\n",
              "      <td>0.0</td>\n",
              "      <td>0.0</td>\n",
              "      <td>0.0</td>\n",
              "      <td>0.0</td>\n",
              "      <td>0.0</td>\n",
              "      <td>0.0</td>\n",
              "      <td>0.0</td>\n",
              "      <td>0.0</td>\n",
              "      <td>0.0</td>\n",
              "      <td>0.0</td>\n",
              "      <td>0.0</td>\n",
              "      <td>0.0</td>\n",
              "      <td>0.0</td>\n",
              "      <td>0.0</td>\n",
              "      <td>0.0</td>\n",
              "      <td>0.0</td>\n",
              "      <td>0.0</td>\n",
              "      <td>0.0</td>\n",
              "      <td>0.0</td>\n",
              "      <td>0.0</td>\n",
              "      <td>0.0</td>\n",
              "      <td>0.0</td>\n",
              "      <td>0.0</td>\n",
              "      <td>1.0</td>\n",
              "      <td>0.0</td>\n",
              "      <td>0.0</td>\n",
              "      <td>0.0</td>\n",
              "      <td>0.0</td>\n",
              "      <td>0.0</td>\n",
              "      <td>0.0</td>\n",
              "      <td>0.0</td>\n",
              "      <td>0.0</td>\n",
              "      <td>0.0</td>\n",
              "      <td>...</td>\n",
              "      <td>0.0</td>\n",
              "      <td>0.0</td>\n",
              "      <td>0.0</td>\n",
              "      <td>0.0</td>\n",
              "      <td>0.0</td>\n",
              "      <td>0.0</td>\n",
              "      <td>0.0</td>\n",
              "      <td>0.0</td>\n",
              "      <td>0.0</td>\n",
              "      <td>0.0</td>\n",
              "      <td>0.0</td>\n",
              "      <td>0.0</td>\n",
              "      <td>0.0</td>\n",
              "      <td>0.0</td>\n",
              "      <td>0.0</td>\n",
              "      <td>0.0</td>\n",
              "      <td>0.0</td>\n",
              "      <td>0.0</td>\n",
              "      <td>0.0</td>\n",
              "      <td>0.0</td>\n",
              "      <td>0.0</td>\n",
              "      <td>0.0</td>\n",
              "      <td>0.0</td>\n",
              "      <td>0.0</td>\n",
              "      <td>0.0</td>\n",
              "      <td>0.0</td>\n",
              "      <td>0.0</td>\n",
              "      <td>0.0</td>\n",
              "      <td>0.0</td>\n",
              "      <td>0.0</td>\n",
              "      <td>0.0</td>\n",
              "      <td>0.0</td>\n",
              "      <td>0.0</td>\n",
              "      <td>0.0</td>\n",
              "      <td>0.0</td>\n",
              "      <td>0.0</td>\n",
              "      <td>0.0</td>\n",
              "      <td>0.0</td>\n",
              "      <td>0.0</td>\n",
              "      <td>0.0</td>\n",
              "    </tr>\n",
              "    <tr>\n",
              "      <th>4</th>\n",
              "      <td>4</td>\n",
              "      <td>5</td>\n",
              "      <td>5268</td>\n",
              "      <td>1</td>\n",
              "      <td>0.909091</td>\n",
              "      <td>20</td>\n",
              "      <td>2791.779820</td>\n",
              "      <td>0.0</td>\n",
              "      <td>0.0</td>\n",
              "      <td>0.0</td>\n",
              "      <td>0.0</td>\n",
              "      <td>0.0</td>\n",
              "      <td>0.0</td>\n",
              "      <td>0.0</td>\n",
              "      <td>0.0</td>\n",
              "      <td>0.0</td>\n",
              "      <td>0.0</td>\n",
              "      <td>0.0</td>\n",
              "      <td>0.0</td>\n",
              "      <td>0.0</td>\n",
              "      <td>0.0</td>\n",
              "      <td>0.0</td>\n",
              "      <td>0.0</td>\n",
              "      <td>0.0</td>\n",
              "      <td>0.0</td>\n",
              "      <td>0.0</td>\n",
              "      <td>0.0</td>\n",
              "      <td>1.0</td>\n",
              "      <td>0.0</td>\n",
              "      <td>0.0</td>\n",
              "      <td>0.0</td>\n",
              "      <td>0.0</td>\n",
              "      <td>0.0</td>\n",
              "      <td>0.0</td>\n",
              "      <td>0.0</td>\n",
              "      <td>0.0</td>\n",
              "      <td>0.0</td>\n",
              "      <td>0.0</td>\n",
              "      <td>0.0</td>\n",
              "      <td>0.0</td>\n",
              "      <td>...</td>\n",
              "      <td>0.0</td>\n",
              "      <td>0.0</td>\n",
              "      <td>0.0</td>\n",
              "      <td>0.0</td>\n",
              "      <td>0.0</td>\n",
              "      <td>0.0</td>\n",
              "      <td>0.0</td>\n",
              "      <td>0.0</td>\n",
              "      <td>0.0</td>\n",
              "      <td>0.0</td>\n",
              "      <td>0.0</td>\n",
              "      <td>0.0</td>\n",
              "      <td>0.0</td>\n",
              "      <td>0.0</td>\n",
              "      <td>0.0</td>\n",
              "      <td>0.0</td>\n",
              "      <td>0.0</td>\n",
              "      <td>0.0</td>\n",
              "      <td>0.0</td>\n",
              "      <td>0.0</td>\n",
              "      <td>0.0</td>\n",
              "      <td>0.0</td>\n",
              "      <td>0.0</td>\n",
              "      <td>0.0</td>\n",
              "      <td>0.0</td>\n",
              "      <td>0.0</td>\n",
              "      <td>0.0</td>\n",
              "      <td>0.0</td>\n",
              "      <td>0.0</td>\n",
              "      <td>0.0</td>\n",
              "      <td>0.0</td>\n",
              "      <td>0.0</td>\n",
              "      <td>0.0</td>\n",
              "      <td>0.0</td>\n",
              "      <td>0.0</td>\n",
              "      <td>0.0</td>\n",
              "      <td>0.0</td>\n",
              "      <td>0.0</td>\n",
              "      <td>0.0</td>\n",
              "      <td>0.0</td>\n",
              "    </tr>\n",
              "  </tbody>\n",
              "</table>\n",
              "<p>5 rows × 151 columns</p>\n",
              "</div>"
            ],
            "text/plain": [
              "   ID  shop_id  item_id  date_block_num  month_value  ...  139  140  141  142  143\n",
              "0   0        5     5037               1     0.909091  ...  0.0  0.0  0.0  0.0  0.0\n",
              "1   1        5     5320               1     0.909091  ...  0.0  0.0  0.0  0.0  0.0\n",
              "2   2        5     5233               1     0.909091  ...  0.0  0.0  0.0  0.0  0.0\n",
              "3   3        5     5232               1     0.909091  ...  0.0  0.0  0.0  0.0  0.0\n",
              "4   4        5     5268               1     0.909091  ...  0.0  0.0  0.0  0.0  0.0\n",
              "\n",
              "[5 rows x 151 columns]"
            ]
          },
          "metadata": {
            "tags": []
          },
          "execution_count": 405
        }
      ]
    },
    {
      "cell_type": "code",
      "metadata": {
        "id": "sx6v6QpiSFi_",
        "colab_type": "code",
        "outputId": "ba1decde-48c9-417e-b605-aa92ce15dbf3",
        "colab": {
          "base_uri": "https://localhost:8080/",
          "height": 256
        }
      },
      "source": [
        "X_predict = transformed_test[columns]\n",
        "X_predict.head()"
      ],
      "execution_count": 406,
      "outputs": [
        {
          "output_type": "execute_result",
          "data": {
            "text/html": [
              "<div>\n",
              "<style scoped>\n",
              "    .dataframe tbody tr th:only-of-type {\n",
              "        vertical-align: middle;\n",
              "    }\n",
              "\n",
              "    .dataframe tbody tr th {\n",
              "        vertical-align: top;\n",
              "    }\n",
              "\n",
              "    .dataframe thead th {\n",
              "        text-align: right;\n",
              "    }\n",
              "</style>\n",
              "<table border=\"1\" class=\"dataframe\">\n",
              "  <thead>\n",
              "    <tr style=\"text-align: right;\">\n",
              "      <th></th>\n",
              "      <th>date_block_num</th>\n",
              "      <th>month_value</th>\n",
              "      <th>item_price</th>\n",
              "      <th>0</th>\n",
              "      <th>1</th>\n",
              "      <th>2</th>\n",
              "      <th>3</th>\n",
              "      <th>4</th>\n",
              "      <th>5</th>\n",
              "      <th>6</th>\n",
              "      <th>7</th>\n",
              "      <th>8</th>\n",
              "      <th>9</th>\n",
              "      <th>10</th>\n",
              "      <th>11</th>\n",
              "      <th>12</th>\n",
              "      <th>13</th>\n",
              "      <th>14</th>\n",
              "      <th>15</th>\n",
              "      <th>16</th>\n",
              "      <th>17</th>\n",
              "      <th>18</th>\n",
              "      <th>19</th>\n",
              "      <th>20</th>\n",
              "      <th>21</th>\n",
              "      <th>22</th>\n",
              "      <th>23</th>\n",
              "      <th>24</th>\n",
              "      <th>25</th>\n",
              "      <th>26</th>\n",
              "      <th>27</th>\n",
              "      <th>28</th>\n",
              "      <th>29</th>\n",
              "      <th>30</th>\n",
              "      <th>31</th>\n",
              "      <th>32</th>\n",
              "      <th>33</th>\n",
              "      <th>34</th>\n",
              "      <th>35</th>\n",
              "      <th>36</th>\n",
              "      <th>...</th>\n",
              "      <th>104</th>\n",
              "      <th>105</th>\n",
              "      <th>106</th>\n",
              "      <th>107</th>\n",
              "      <th>108</th>\n",
              "      <th>109</th>\n",
              "      <th>110</th>\n",
              "      <th>111</th>\n",
              "      <th>112</th>\n",
              "      <th>113</th>\n",
              "      <th>114</th>\n",
              "      <th>115</th>\n",
              "      <th>116</th>\n",
              "      <th>117</th>\n",
              "      <th>118</th>\n",
              "      <th>119</th>\n",
              "      <th>120</th>\n",
              "      <th>121</th>\n",
              "      <th>122</th>\n",
              "      <th>123</th>\n",
              "      <th>124</th>\n",
              "      <th>125</th>\n",
              "      <th>126</th>\n",
              "      <th>127</th>\n",
              "      <th>128</th>\n",
              "      <th>129</th>\n",
              "      <th>130</th>\n",
              "      <th>131</th>\n",
              "      <th>132</th>\n",
              "      <th>133</th>\n",
              "      <th>134</th>\n",
              "      <th>135</th>\n",
              "      <th>136</th>\n",
              "      <th>137</th>\n",
              "      <th>138</th>\n",
              "      <th>139</th>\n",
              "      <th>140</th>\n",
              "      <th>141</th>\n",
              "      <th>142</th>\n",
              "      <th>143</th>\n",
              "    </tr>\n",
              "  </thead>\n",
              "  <tbody>\n",
              "    <tr>\n",
              "      <th>0</th>\n",
              "      <td>1</td>\n",
              "      <td>0.909091</td>\n",
              "      <td>1923.611577</td>\n",
              "      <td>0.0</td>\n",
              "      <td>0.0</td>\n",
              "      <td>0.0</td>\n",
              "      <td>0.0</td>\n",
              "      <td>0.0</td>\n",
              "      <td>0.0</td>\n",
              "      <td>0.0</td>\n",
              "      <td>0.0</td>\n",
              "      <td>0.0</td>\n",
              "      <td>0.0</td>\n",
              "      <td>0.0</td>\n",
              "      <td>0.0</td>\n",
              "      <td>0.0</td>\n",
              "      <td>0.0</td>\n",
              "      <td>0.0</td>\n",
              "      <td>0.0</td>\n",
              "      <td>0.0</td>\n",
              "      <td>0.0</td>\n",
              "      <td>0.0</td>\n",
              "      <td>1.0</td>\n",
              "      <td>0.0</td>\n",
              "      <td>0.0</td>\n",
              "      <td>0.0</td>\n",
              "      <td>0.0</td>\n",
              "      <td>0.0</td>\n",
              "      <td>0.0</td>\n",
              "      <td>0.0</td>\n",
              "      <td>0.0</td>\n",
              "      <td>0.0</td>\n",
              "      <td>0.0</td>\n",
              "      <td>0.0</td>\n",
              "      <td>0.0</td>\n",
              "      <td>0.0</td>\n",
              "      <td>0.0</td>\n",
              "      <td>0.0</td>\n",
              "      <td>0.0</td>\n",
              "      <td>0.0</td>\n",
              "      <td>...</td>\n",
              "      <td>0.0</td>\n",
              "      <td>0.0</td>\n",
              "      <td>0.0</td>\n",
              "      <td>0.0</td>\n",
              "      <td>0.0</td>\n",
              "      <td>0.0</td>\n",
              "      <td>0.0</td>\n",
              "      <td>0.0</td>\n",
              "      <td>0.0</td>\n",
              "      <td>0.0</td>\n",
              "      <td>0.0</td>\n",
              "      <td>0.0</td>\n",
              "      <td>0.0</td>\n",
              "      <td>0.0</td>\n",
              "      <td>0.0</td>\n",
              "      <td>0.0</td>\n",
              "      <td>0.0</td>\n",
              "      <td>0.0</td>\n",
              "      <td>0.0</td>\n",
              "      <td>0.0</td>\n",
              "      <td>0.0</td>\n",
              "      <td>0.0</td>\n",
              "      <td>0.0</td>\n",
              "      <td>0.0</td>\n",
              "      <td>0.0</td>\n",
              "      <td>0.0</td>\n",
              "      <td>0.0</td>\n",
              "      <td>0.0</td>\n",
              "      <td>0.0</td>\n",
              "      <td>0.0</td>\n",
              "      <td>0.0</td>\n",
              "      <td>0.0</td>\n",
              "      <td>0.0</td>\n",
              "      <td>0.0</td>\n",
              "      <td>0.0</td>\n",
              "      <td>0.0</td>\n",
              "      <td>0.0</td>\n",
              "      <td>0.0</td>\n",
              "      <td>0.0</td>\n",
              "      <td>0.0</td>\n",
              "    </tr>\n",
              "    <tr>\n",
              "      <th>1</th>\n",
              "      <td>1</td>\n",
              "      <td>0.909091</td>\n",
              "      <td>286.209370</td>\n",
              "      <td>0.0</td>\n",
              "      <td>0.0</td>\n",
              "      <td>0.0</td>\n",
              "      <td>0.0</td>\n",
              "      <td>0.0</td>\n",
              "      <td>0.0</td>\n",
              "      <td>0.0</td>\n",
              "      <td>0.0</td>\n",
              "      <td>0.0</td>\n",
              "      <td>0.0</td>\n",
              "      <td>0.0</td>\n",
              "      <td>0.0</td>\n",
              "      <td>0.0</td>\n",
              "      <td>0.0</td>\n",
              "      <td>0.0</td>\n",
              "      <td>0.0</td>\n",
              "      <td>0.0</td>\n",
              "      <td>0.0</td>\n",
              "      <td>0.0</td>\n",
              "      <td>0.0</td>\n",
              "      <td>0.0</td>\n",
              "      <td>0.0</td>\n",
              "      <td>0.0</td>\n",
              "      <td>0.0</td>\n",
              "      <td>0.0</td>\n",
              "      <td>0.0</td>\n",
              "      <td>0.0</td>\n",
              "      <td>0.0</td>\n",
              "      <td>0.0</td>\n",
              "      <td>0.0</td>\n",
              "      <td>0.0</td>\n",
              "      <td>0.0</td>\n",
              "      <td>0.0</td>\n",
              "      <td>0.0</td>\n",
              "      <td>0.0</td>\n",
              "      <td>0.0</td>\n",
              "      <td>0.0</td>\n",
              "      <td>...</td>\n",
              "      <td>0.0</td>\n",
              "      <td>0.0</td>\n",
              "      <td>0.0</td>\n",
              "      <td>0.0</td>\n",
              "      <td>0.0</td>\n",
              "      <td>0.0</td>\n",
              "      <td>0.0</td>\n",
              "      <td>0.0</td>\n",
              "      <td>0.0</td>\n",
              "      <td>0.0</td>\n",
              "      <td>0.0</td>\n",
              "      <td>0.0</td>\n",
              "      <td>0.0</td>\n",
              "      <td>0.0</td>\n",
              "      <td>0.0</td>\n",
              "      <td>0.0</td>\n",
              "      <td>0.0</td>\n",
              "      <td>0.0</td>\n",
              "      <td>0.0</td>\n",
              "      <td>0.0</td>\n",
              "      <td>0.0</td>\n",
              "      <td>0.0</td>\n",
              "      <td>0.0</td>\n",
              "      <td>0.0</td>\n",
              "      <td>0.0</td>\n",
              "      <td>0.0</td>\n",
              "      <td>0.0</td>\n",
              "      <td>0.0</td>\n",
              "      <td>0.0</td>\n",
              "      <td>0.0</td>\n",
              "      <td>0.0</td>\n",
              "      <td>0.0</td>\n",
              "      <td>0.0</td>\n",
              "      <td>0.0</td>\n",
              "      <td>0.0</td>\n",
              "      <td>0.0</td>\n",
              "      <td>0.0</td>\n",
              "      <td>0.0</td>\n",
              "      <td>0.0</td>\n",
              "      <td>0.0</td>\n",
              "    </tr>\n",
              "    <tr>\n",
              "      <th>2</th>\n",
              "      <td>1</td>\n",
              "      <td>0.909091</td>\n",
              "      <td>800.777500</td>\n",
              "      <td>0.0</td>\n",
              "      <td>0.0</td>\n",
              "      <td>0.0</td>\n",
              "      <td>0.0</td>\n",
              "      <td>0.0</td>\n",
              "      <td>0.0</td>\n",
              "      <td>0.0</td>\n",
              "      <td>0.0</td>\n",
              "      <td>0.0</td>\n",
              "      <td>0.0</td>\n",
              "      <td>0.0</td>\n",
              "      <td>0.0</td>\n",
              "      <td>0.0</td>\n",
              "      <td>0.0</td>\n",
              "      <td>0.0</td>\n",
              "      <td>0.0</td>\n",
              "      <td>0.0</td>\n",
              "      <td>0.0</td>\n",
              "      <td>0.0</td>\n",
              "      <td>1.0</td>\n",
              "      <td>0.0</td>\n",
              "      <td>0.0</td>\n",
              "      <td>0.0</td>\n",
              "      <td>0.0</td>\n",
              "      <td>0.0</td>\n",
              "      <td>0.0</td>\n",
              "      <td>0.0</td>\n",
              "      <td>0.0</td>\n",
              "      <td>0.0</td>\n",
              "      <td>0.0</td>\n",
              "      <td>0.0</td>\n",
              "      <td>0.0</td>\n",
              "      <td>0.0</td>\n",
              "      <td>0.0</td>\n",
              "      <td>0.0</td>\n",
              "      <td>0.0</td>\n",
              "      <td>0.0</td>\n",
              "      <td>...</td>\n",
              "      <td>0.0</td>\n",
              "      <td>0.0</td>\n",
              "      <td>0.0</td>\n",
              "      <td>0.0</td>\n",
              "      <td>0.0</td>\n",
              "      <td>0.0</td>\n",
              "      <td>0.0</td>\n",
              "      <td>0.0</td>\n",
              "      <td>0.0</td>\n",
              "      <td>0.0</td>\n",
              "      <td>0.0</td>\n",
              "      <td>0.0</td>\n",
              "      <td>0.0</td>\n",
              "      <td>0.0</td>\n",
              "      <td>0.0</td>\n",
              "      <td>0.0</td>\n",
              "      <td>0.0</td>\n",
              "      <td>0.0</td>\n",
              "      <td>0.0</td>\n",
              "      <td>0.0</td>\n",
              "      <td>0.0</td>\n",
              "      <td>0.0</td>\n",
              "      <td>0.0</td>\n",
              "      <td>0.0</td>\n",
              "      <td>0.0</td>\n",
              "      <td>0.0</td>\n",
              "      <td>0.0</td>\n",
              "      <td>0.0</td>\n",
              "      <td>0.0</td>\n",
              "      <td>0.0</td>\n",
              "      <td>0.0</td>\n",
              "      <td>0.0</td>\n",
              "      <td>0.0</td>\n",
              "      <td>0.0</td>\n",
              "      <td>0.0</td>\n",
              "      <td>0.0</td>\n",
              "      <td>0.0</td>\n",
              "      <td>0.0</td>\n",
              "      <td>0.0</td>\n",
              "      <td>0.0</td>\n",
              "    </tr>\n",
              "    <tr>\n",
              "      <th>3</th>\n",
              "      <td>1</td>\n",
              "      <td>0.909091</td>\n",
              "      <td>787.346357</td>\n",
              "      <td>0.0</td>\n",
              "      <td>0.0</td>\n",
              "      <td>0.0</td>\n",
              "      <td>0.0</td>\n",
              "      <td>0.0</td>\n",
              "      <td>0.0</td>\n",
              "      <td>0.0</td>\n",
              "      <td>0.0</td>\n",
              "      <td>0.0</td>\n",
              "      <td>0.0</td>\n",
              "      <td>0.0</td>\n",
              "      <td>0.0</td>\n",
              "      <td>0.0</td>\n",
              "      <td>0.0</td>\n",
              "      <td>0.0</td>\n",
              "      <td>0.0</td>\n",
              "      <td>0.0</td>\n",
              "      <td>0.0</td>\n",
              "      <td>0.0</td>\n",
              "      <td>0.0</td>\n",
              "      <td>0.0</td>\n",
              "      <td>0.0</td>\n",
              "      <td>0.0</td>\n",
              "      <td>1.0</td>\n",
              "      <td>0.0</td>\n",
              "      <td>0.0</td>\n",
              "      <td>0.0</td>\n",
              "      <td>0.0</td>\n",
              "      <td>0.0</td>\n",
              "      <td>0.0</td>\n",
              "      <td>0.0</td>\n",
              "      <td>0.0</td>\n",
              "      <td>0.0</td>\n",
              "      <td>0.0</td>\n",
              "      <td>0.0</td>\n",
              "      <td>0.0</td>\n",
              "      <td>0.0</td>\n",
              "      <td>...</td>\n",
              "      <td>0.0</td>\n",
              "      <td>0.0</td>\n",
              "      <td>0.0</td>\n",
              "      <td>0.0</td>\n",
              "      <td>0.0</td>\n",
              "      <td>0.0</td>\n",
              "      <td>0.0</td>\n",
              "      <td>0.0</td>\n",
              "      <td>0.0</td>\n",
              "      <td>0.0</td>\n",
              "      <td>0.0</td>\n",
              "      <td>0.0</td>\n",
              "      <td>0.0</td>\n",
              "      <td>0.0</td>\n",
              "      <td>0.0</td>\n",
              "      <td>0.0</td>\n",
              "      <td>0.0</td>\n",
              "      <td>0.0</td>\n",
              "      <td>0.0</td>\n",
              "      <td>0.0</td>\n",
              "      <td>0.0</td>\n",
              "      <td>0.0</td>\n",
              "      <td>0.0</td>\n",
              "      <td>0.0</td>\n",
              "      <td>0.0</td>\n",
              "      <td>0.0</td>\n",
              "      <td>0.0</td>\n",
              "      <td>0.0</td>\n",
              "      <td>0.0</td>\n",
              "      <td>0.0</td>\n",
              "      <td>0.0</td>\n",
              "      <td>0.0</td>\n",
              "      <td>0.0</td>\n",
              "      <td>0.0</td>\n",
              "      <td>0.0</td>\n",
              "      <td>0.0</td>\n",
              "      <td>0.0</td>\n",
              "      <td>0.0</td>\n",
              "      <td>0.0</td>\n",
              "      <td>0.0</td>\n",
              "    </tr>\n",
              "    <tr>\n",
              "      <th>4</th>\n",
              "      <td>1</td>\n",
              "      <td>0.909091</td>\n",
              "      <td>2791.779820</td>\n",
              "      <td>0.0</td>\n",
              "      <td>0.0</td>\n",
              "      <td>0.0</td>\n",
              "      <td>0.0</td>\n",
              "      <td>0.0</td>\n",
              "      <td>0.0</td>\n",
              "      <td>0.0</td>\n",
              "      <td>0.0</td>\n",
              "      <td>0.0</td>\n",
              "      <td>0.0</td>\n",
              "      <td>0.0</td>\n",
              "      <td>0.0</td>\n",
              "      <td>0.0</td>\n",
              "      <td>0.0</td>\n",
              "      <td>0.0</td>\n",
              "      <td>0.0</td>\n",
              "      <td>0.0</td>\n",
              "      <td>0.0</td>\n",
              "      <td>0.0</td>\n",
              "      <td>0.0</td>\n",
              "      <td>1.0</td>\n",
              "      <td>0.0</td>\n",
              "      <td>0.0</td>\n",
              "      <td>0.0</td>\n",
              "      <td>0.0</td>\n",
              "      <td>0.0</td>\n",
              "      <td>0.0</td>\n",
              "      <td>0.0</td>\n",
              "      <td>0.0</td>\n",
              "      <td>0.0</td>\n",
              "      <td>0.0</td>\n",
              "      <td>0.0</td>\n",
              "      <td>0.0</td>\n",
              "      <td>0.0</td>\n",
              "      <td>0.0</td>\n",
              "      <td>0.0</td>\n",
              "      <td>0.0</td>\n",
              "      <td>...</td>\n",
              "      <td>0.0</td>\n",
              "      <td>0.0</td>\n",
              "      <td>0.0</td>\n",
              "      <td>0.0</td>\n",
              "      <td>0.0</td>\n",
              "      <td>0.0</td>\n",
              "      <td>0.0</td>\n",
              "      <td>0.0</td>\n",
              "      <td>0.0</td>\n",
              "      <td>0.0</td>\n",
              "      <td>0.0</td>\n",
              "      <td>0.0</td>\n",
              "      <td>0.0</td>\n",
              "      <td>0.0</td>\n",
              "      <td>0.0</td>\n",
              "      <td>0.0</td>\n",
              "      <td>0.0</td>\n",
              "      <td>0.0</td>\n",
              "      <td>0.0</td>\n",
              "      <td>0.0</td>\n",
              "      <td>0.0</td>\n",
              "      <td>0.0</td>\n",
              "      <td>0.0</td>\n",
              "      <td>0.0</td>\n",
              "      <td>0.0</td>\n",
              "      <td>0.0</td>\n",
              "      <td>0.0</td>\n",
              "      <td>0.0</td>\n",
              "      <td>0.0</td>\n",
              "      <td>0.0</td>\n",
              "      <td>0.0</td>\n",
              "      <td>0.0</td>\n",
              "      <td>0.0</td>\n",
              "      <td>0.0</td>\n",
              "      <td>0.0</td>\n",
              "      <td>0.0</td>\n",
              "      <td>0.0</td>\n",
              "      <td>0.0</td>\n",
              "      <td>0.0</td>\n",
              "      <td>0.0</td>\n",
              "    </tr>\n",
              "  </tbody>\n",
              "</table>\n",
              "<p>5 rows × 147 columns</p>\n",
              "</div>"
            ],
            "text/plain": [
              "   date_block_num  month_value   item_price    0    1  ...  139  140  141  142  143\n",
              "0               1     0.909091  1923.611577  0.0  0.0  ...  0.0  0.0  0.0  0.0  0.0\n",
              "1               1     0.909091   286.209370  0.0  0.0  ...  0.0  0.0  0.0  0.0  0.0\n",
              "2               1     0.909091   800.777500  0.0  0.0  ...  0.0  0.0  0.0  0.0  0.0\n",
              "3               1     0.909091   787.346357  0.0  0.0  ...  0.0  0.0  0.0  0.0  0.0\n",
              "4               1     0.909091  2791.779820  0.0  0.0  ...  0.0  0.0  0.0  0.0  0.0\n",
              "\n",
              "[5 rows x 147 columns]"
            ]
          },
          "metadata": {
            "tags": []
          },
          "execution_count": 406
        }
      ]
    },
    {
      "cell_type": "code",
      "metadata": {
        "id": "XITewp7ESFjF",
        "colab_type": "code",
        "outputId": "c00e7e3e-1ce4-4566-8352-54669f8a9197",
        "colab": {
          "base_uri": "https://localhost:8080/",
          "height": 90
        }
      },
      "source": [
        "from sklearn import linear_model\n",
        "from sklearn import metrics\n",
        "\n",
        "print(\"Meetodi parameetrite loetelu koos vaikeväärtustega:\")\n",
        "print(linear_model.LinearRegression())\n",
        "\n",
        "print()\n",
        "# Loome mudeli\n",
        "regr = linear_model.LinearRegression()\n",
        "# Õpetame mudelit\n",
        "regr.fit(X_train, y_train)"
      ],
      "execution_count": 407,
      "outputs": [
        {
          "output_type": "stream",
          "text": [
            "Meetodi parameetrite loetelu koos vaikeväärtustega:\n",
            "LinearRegression(copy_X=True, fit_intercept=True, n_jobs=None, normalize=False)\n",
            "\n"
          ],
          "name": "stdout"
        },
        {
          "output_type": "execute_result",
          "data": {
            "text/plain": [
              "LinearRegression(copy_X=True, fit_intercept=True, n_jobs=None, normalize=False)"
            ]
          },
          "metadata": {
            "tags": []
          },
          "execution_count": 407
        }
      ]
    },
    {
      "cell_type": "code",
      "metadata": {
        "id": "oWSqbmDKcE06",
        "colab_type": "code",
        "outputId": "a24ac1e3-e61c-4c2f-b8ea-0887e2d2c9c4",
        "colab": {
          "base_uri": "https://localhost:8080/",
          "height": 201
        }
      },
      "source": [
        "# Kasutame mudelit testkorpuse andmete põhjal ennustamisel\n",
        "y_test_predict = regr.predict(X_test)\n",
        "# Arvutame skoori ja keskmise absoluutvea (MAE)\n",
        "print(\"LinearRegression täpsus:\", regr.score(X_test, y_test))\n",
        "print(\"Keskmine viga:\",metrics.mean_squared_error(y_test, y_test_predict))\n",
        "print(X_predict.head())"
      ],
      "execution_count": 408,
      "outputs": [
        {
          "output_type": "stream",
          "text": [
            "LinearRegression täpsus: -598190434349603.1\n",
            "Keskmine viga: 752517859450750.5\n",
            "   date_block_num  month_value   item_price    0    1  ...  139  140  141  142  143\n",
            "0               1     0.909091  1923.611577  0.0  0.0  ...  0.0  0.0  0.0  0.0  0.0\n",
            "1               1     0.909091   286.209370  0.0  0.0  ...  0.0  0.0  0.0  0.0  0.0\n",
            "2               1     0.909091   800.777500  0.0  0.0  ...  0.0  0.0  0.0  0.0  0.0\n",
            "3               1     0.909091   787.346357  0.0  0.0  ...  0.0  0.0  0.0  0.0  0.0\n",
            "4               1     0.909091  2791.779820  0.0  0.0  ...  0.0  0.0  0.0  0.0  0.0\n",
            "\n",
            "[5 rows x 147 columns]\n"
          ],
          "name": "stdout"
        }
      ]
    },
    {
      "cell_type": "code",
      "metadata": {
        "id": "RAcmY7QIW9ei",
        "colab_type": "code",
        "outputId": "e36dfc55-fa6d-4b6d-f546-e5693289a14e",
        "colab": {
          "base_uri": "https://localhost:8080/",
          "height": 384
        }
      },
      "source": [
        "print(y_test_predict[:10])\n",
        "print(y_test[:10])"
      ],
      "execution_count": 409,
      "outputs": [
        {
          "output_type": "stream",
          "text": [
            "[[ 0.05366516]\n",
            " [-0.07971191]\n",
            " [ 0.28125763]\n",
            " [ 0.01003265]\n",
            " [-0.01111603]\n",
            " [-0.11153412]\n",
            " [-0.10657501]\n",
            " [-0.02429962]\n",
            " [ 0.0881424 ]\n",
            " [ 0.16331482]]\n",
            "[[-0.14738061]\n",
            " [-0.14738061]\n",
            " [-0.14738061]\n",
            " [-0.14738061]\n",
            " [-0.14738061]\n",
            " [-0.14738061]\n",
            " [ 0.52108014]\n",
            " [ 0.12000369]\n",
            " [-0.14738061]\n",
            " [-0.01368846]]\n"
          ],
          "name": "stdout"
        }
      ]
    },
    {
      "cell_type": "code",
      "metadata": {
        "id": "xndzwwmiSFjM",
        "colab_type": "code",
        "colab": {}
      },
      "source": [
        "from keras.layers import Dense, Input, BatchNormalization\n",
        "from keras.models import Sequential\n",
        "from keras.optimizers import SGD, RMSprop\n",
        "from keras.models import load_model\n",
        "\n",
        "def model(inputshape,loss,opt,activation):\n",
        "  mdl= Sequential()\n",
        "\n",
        "  mdl.add(Dense(inputshape, activation=activation, input_shape=(inputshape,)))\n",
        "  mdl.add(BatchNormalization())\n",
        "  mdl.add(Dense(inputshape,activation=activation))\n",
        "  mdl.add(BatchNormalization())\n",
        "  mdl.add(Dense(inputshape,activation=activation))\n",
        "  mdl.add(BatchNormalization())\n",
        "  mdl.add(Dense(12,activation=activation))\n",
        "  mdl.add(BatchNormalization())\n",
        "  mdl.add(Dense(1,activation=activation))\n",
        "  \n",
        "  mdl.compile(loss=loss, optimizer=opt)\n",
        "  return mdl"
      ],
      "execution_count": 0,
      "outputs": []
    },
    {
      "cell_type": "code",
      "metadata": {
        "id": "s47Vgiz0SFjT",
        "colab_type": "code",
        "outputId": "21dcdfd8-98b7-4467-d7b3-c0b7a9dc79dc",
        "colab": {
          "base_uri": "https://localhost:8080/",
          "height": 348
        }
      },
      "source": [
        "inputshape = X_train.shape[1]\n",
        "mdl = model(inputshape, \"mean_squared_error\",\"Adam\",'relu')\n",
        "hist = mdl.fit(X_train, y_train, epochs=8, batch_size=512,validation_data = (X_test, y_test))\n",
        "print(X_predict.shape)\n",
        "\n",
        "#print(y_pred[i][0], '-', cat_enc.inverse_transform(predictions)[i])"
      ],
      "execution_count": 422,
      "outputs": [
        {
          "output_type": "stream",
          "text": [
            "Train on 1477186 samples, validate on 260680 samples\n",
            "Epoch 1/8\n",
            "1477186/1477186 [==============================] - 50s 34us/step - loss: 0.6814 - val_loss: 1.1789\n",
            "Epoch 2/8\n",
            "1477186/1477186 [==============================] - 43s 29us/step - loss: 0.5844 - val_loss: 0.9835\n",
            "Epoch 3/8\n",
            "1477186/1477186 [==============================] - 43s 29us/step - loss: 0.5678 - val_loss: 1.6968\n",
            "Epoch 4/8\n",
            "1477186/1477186 [==============================] - 43s 29us/step - loss: 0.5628 - val_loss: 1.6173\n",
            "Epoch 5/8\n",
            "1477186/1477186 [==============================] - 43s 29us/step - loss: 0.5459 - val_loss: 0.9854\n",
            "Epoch 6/8\n",
            "1477186/1477186 [==============================] - 44s 30us/step - loss: 0.5353 - val_loss: 1.3714\n",
            "Epoch 7/8\n",
            "1477186/1477186 [==============================] - 43s 29us/step - loss: 0.5329 - val_loss: 0.8429\n",
            "Epoch 8/8\n",
            "1477186/1477186 [==============================] - 43s 29us/step - loss: 0.5243 - val_loss: 0.9944\n",
            "(214200, 147)\n"
          ],
          "name": "stdout"
        }
      ]
    },
    {
      "cell_type": "code",
      "metadata": {
        "id": "clQV2T5ldgLB",
        "colab_type": "code",
        "colab": {}
      },
      "source": [
        "#X_predict.drop(['item_cnt_month_predict'],axis=1,inplace=True)\n",
        "y_pred = mdl.predict(X_predict)"
      ],
      "execution_count": 0,
      "outputs": []
    },
    {
      "cell_type": "code",
      "metadata": {
        "id": "jbtFpLRySFjd",
        "colab_type": "code",
        "outputId": "1e127fe7-2f8d-4fa4-a4dd-073a5c599989",
        "colab": {
          "base_uri": "https://localhost:8080/",
          "height": 295
        }
      },
      "source": [
        "plt.plot(hist.history['loss'])\n",
        "plt.plot(hist.history['val_loss'])\n",
        "plt.title('model loss')\n",
        "plt.ylabel('loss')\n",
        "plt.xlabel('epoch')\n",
        "plt.legend(['train', 'test'], loc='upper left')\n",
        "plt.show()"
      ],
      "execution_count": 424,
      "outputs": [
        {
          "output_type": "display_data",
          "data": {
            "image/png": "[encoded data removed]",
            "text/plain": [
              "<Figure size 432x288 with 1 Axes>"
            ]
          },
          "metadata": {
            "tags": []
          }
        }
      ]
    },
    {
      "cell_type": "code",
      "metadata": {
        "id": "ocQQ7KDGSFjh",
        "colab_type": "code",
        "outputId": "ddc758b8-74b5-4baf-d4cc-389ed9d75464",
        "colab": {
          "base_uri": "https://localhost:8080/",
          "height": 201
        }
      },
      "source": [
        "print(y_pred[:10])"
      ],
      "execution_count": 425,
      "outputs": [
        {
          "output_type": "stream",
          "text": [
            "[[0.]\n",
            " [0.]\n",
            " [0.]\n",
            " [0.]\n",
            " [0.]\n",
            " [0.]\n",
            " [0.]\n",
            " [0.]\n",
            " [0.]\n",
            " [0.]]\n"
          ],
          "name": "stdout"
        }
      ]
    },
    {
      "cell_type": "code",
      "metadata": {
        "id": "hmla7rlhSFjo",
        "colab_type": "code",
        "colab": {}
      },
      "source": [
        "y_pred = y_scaler.inverse_transform(y_pred)"
      ],
      "execution_count": 0,
      "outputs": []
    },
    {
      "cell_type": "code",
      "metadata": {
        "id": "Ezot-RaUlh1h",
        "colab_type": "code",
        "outputId": "62031e6c-618a-4027-c6c8-ad76b6a30736",
        "colab": {
          "base_uri": "https://localhost:8080/",
          "height": 146
        }
      },
      "source": [
        "print(y_pred)"
      ],
      "execution_count": 427,
      "outputs": [
        {
          "output_type": "stream",
          "text": [
            "[[2.102388]\n",
            " [2.102388]\n",
            " [2.102388]\n",
            " ...\n",
            " [2.102388]\n",
            " [2.102388]\n",
            " [2.102388]]\n"
          ],
          "name": "stdout"
        }
      ]
    },
    {
      "cell_type": "code",
      "metadata": {
        "id": "th_3XjfXl2aw",
        "colab_type": "code",
        "outputId": "77c4dfc0-f5c7-486c-825f-c261978b163d",
        "colab": {
          "base_uri": "https://localhost:8080/",
          "height": 35
        }
      },
      "source": [
        "y_pred.max()"
      ],
      "execution_count": 428,
      "outputs": [
        {
          "output_type": "execute_result",
          "data": {
            "text/plain": [
              "594.89154"
            ]
          },
          "metadata": {
            "tags": []
          },
          "execution_count": 428
        }
      ]
    },
    {
      "cell_type": "code",
      "metadata": {
        "id": "M25nT4BNl9_7",
        "colab_type": "code",
        "colab": {}
      },
      "source": [
        "example = pd.read_csv(path + '/input/sample_submission.csv.gz')"
      ],
      "execution_count": 0,
      "outputs": []
    },
    {
      "cell_type": "code",
      "metadata": {
        "id": "XenyJegRv4C_",
        "colab_type": "code",
        "colab": {
          "base_uri": "https://localhost:8080/",
          "height": 206
        },
        "outputId": "e79327b5-4c5a-4909-b699-a3c56b8b83d4"
      },
      "source": [
        "example.head()"
      ],
      "execution_count": 430,
      "outputs": [
        {
          "output_type": "execute_result",
          "data": {
            "text/html": [
              "<div>\n",
              "<style scoped>\n",
              "    .dataframe tbody tr th:only-of-type {\n",
              "        vertical-align: middle;\n",
              "    }\n",
              "\n",
              "    .dataframe tbody tr th {\n",
              "        vertical-align: top;\n",
              "    }\n",
              "\n",
              "    .dataframe thead th {\n",
              "        text-align: right;\n",
              "    }\n",
              "</style>\n",
              "<table border=\"1\" class=\"dataframe\">\n",
              "  <thead>\n",
              "    <tr style=\"text-align: right;\">\n",
              "      <th></th>\n",
              "      <th>ID</th>\n",
              "      <th>item_cnt_month</th>\n",
              "    </tr>\n",
              "  </thead>\n",
              "  <tbody>\n",
              "    <tr>\n",
              "      <th>0</th>\n",
              "      <td>0</td>\n",
              "      <td>0.5</td>\n",
              "    </tr>\n",
              "    <tr>\n",
              "      <th>1</th>\n",
              "      <td>1</td>\n",
              "      <td>0.5</td>\n",
              "    </tr>\n",
              "    <tr>\n",
              "      <th>2</th>\n",
              "      <td>2</td>\n",
              "      <td>0.5</td>\n",
              "    </tr>\n",
              "    <tr>\n",
              "      <th>3</th>\n",
              "      <td>3</td>\n",
              "      <td>0.5</td>\n",
              "    </tr>\n",
              "    <tr>\n",
              "      <th>4</th>\n",
              "      <td>4</td>\n",
              "      <td>0.5</td>\n",
              "    </tr>\n",
              "  </tbody>\n",
              "</table>\n",
              "</div>"
            ],
            "text/plain": [
              "   ID  item_cnt_month\n",
              "0   0             0.5\n",
              "1   1             0.5\n",
              "2   2             0.5\n",
              "3   3             0.5\n",
              "4   4             0.5"
            ]
          },
          "metadata": {
            "tags": []
          },
          "execution_count": 430
        }
      ]
    },
    {
      "cell_type": "code",
      "metadata": {
        "id": "aojrD868v4Yt",
        "colab_type": "code",
        "colab": {}
      },
      "source": [
        "example['item_cnt_month'] = y_pred"
      ],
      "execution_count": 0,
      "outputs": []
    },
    {
      "cell_type": "code",
      "metadata": {
        "id": "ARDUtiAUv4qI",
        "colab_type": "code",
        "colab": {
          "base_uri": "https://localhost:8080/",
          "height": 206
        },
        "outputId": "f7b443d1-2130-421e-97cf-030792939ebd"
      },
      "source": [
        "example.head()"
      ],
      "execution_count": 432,
      "outputs": [
        {
          "output_type": "execute_result",
          "data": {
            "text/html": [
              "<div>\n",
              "<style scoped>\n",
              "    .dataframe tbody tr th:only-of-type {\n",
              "        vertical-align: middle;\n",
              "    }\n",
              "\n",
              "    .dataframe tbody tr th {\n",
              "        vertical-align: top;\n",
              "    }\n",
              "\n",
              "    .dataframe thead th {\n",
              "        text-align: right;\n",
              "    }\n",
              "</style>\n",
              "<table border=\"1\" class=\"dataframe\">\n",
              "  <thead>\n",
              "    <tr style=\"text-align: right;\">\n",
              "      <th></th>\n",
              "      <th>ID</th>\n",
              "      <th>item_cnt_month</th>\n",
              "    </tr>\n",
              "  </thead>\n",
              "  <tbody>\n",
              "    <tr>\n",
              "      <th>0</th>\n",
              "      <td>0</td>\n",
              "      <td>2.102388</td>\n",
              "    </tr>\n",
              "    <tr>\n",
              "      <th>1</th>\n",
              "      <td>1</td>\n",
              "      <td>2.102388</td>\n",
              "    </tr>\n",
              "    <tr>\n",
              "      <th>2</th>\n",
              "      <td>2</td>\n",
              "      <td>2.102388</td>\n",
              "    </tr>\n",
              "    <tr>\n",
              "      <th>3</th>\n",
              "      <td>3</td>\n",
              "      <td>2.102388</td>\n",
              "    </tr>\n",
              "    <tr>\n",
              "      <th>4</th>\n",
              "      <td>4</td>\n",
              "      <td>2.102388</td>\n",
              "    </tr>\n",
              "  </tbody>\n",
              "</table>\n",
              "</div>"
            ],
            "text/plain": [
              "   ID  item_cnt_month\n",
              "0   0        2.102388\n",
              "1   1        2.102388\n",
              "2   2        2.102388\n",
              "3   3        2.102388\n",
              "4   4        2.102388"
            ]
          },
          "metadata": {
            "tags": []
          },
          "execution_count": 432
        }
      ]
    },
    {
      "cell_type": "code",
      "metadata": {
        "id": "mGmxeZ_L0QG4",
        "colab_type": "code",
        "colab": {}
      },
      "source": [
        "example.to_csv(path+'/input/output.csv',index=False)"
      ],
      "execution_count": 0,
      "outputs": []
    },
    {
      "cell_type": "code",
      "metadata": {
        "id": "xYcODmz201ad",
        "colab_type": "code",
        "colab": {}
      },
      "source": [
        ""
      ],
      "execution_count": 0,
      "outputs": []
    },
    {
      "cell_type": "code",
      "metadata": {
        "id": "Gl2ajOQT6lnv",
        "colab_type": "code",
        "colab": {}
      },
      "source": [
        ""
      ],
      "execution_count": 0,
      "outputs": []
    }
  ]
}